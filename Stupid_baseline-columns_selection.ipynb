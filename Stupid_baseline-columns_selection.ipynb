{
 "cells": [
  {
   "cell_type": "code",
   "execution_count": 5,
   "metadata": {},
   "outputs": [],
   "source": [
    "import pandas as pd\n",
    "import sys\n",
    "from catboost import CatBoostClassifier \n",
    "import numpy as np\n",
    "from catboost import Pool, cv"
   ]
  },
  {
   "cell_type": "code",
   "execution_count": 4,
   "metadata": {
    "scrolled": false
   },
   "outputs": [],
   "source": [
    "train  = pd.read_excel('train.xlsx')\n",
    "test = pd.read_excel('test.xlsx')\n",
    "result = pd.read_excel('result.xlsx')"
   ]
  },
  {
   "cell_type": "code",
   "execution_count": 17,
   "metadata": {},
   "outputs": [
    {
     "data": {
      "text/html": [
       "<div>\n",
       "<style scoped>\n",
       "    .dataframe tbody tr th:only-of-type {\n",
       "        vertical-align: middle;\n",
       "    }\n",
       "\n",
       "    .dataframe tbody tr th {\n",
       "        vertical-align: top;\n",
       "    }\n",
       "\n",
       "    .dataframe thead th {\n",
       "        text-align: right;\n",
       "    }\n",
       "</style>\n",
       "<table border=\"1\" class=\"dataframe\">\n",
       "  <thead>\n",
       "    <tr style=\"text-align: right;\">\n",
       "      <th></th>\n",
       "      <th>well id</th>\n",
       "      <th>depth, m</th>\n",
       "      <th>bk</th>\n",
       "      <th>GZ1</th>\n",
       "      <th>GZ2</th>\n",
       "      <th>GZ3</th>\n",
       "      <th>GZ4</th>\n",
       "      <th>GZ5</th>\n",
       "      <th>GZ7</th>\n",
       "      <th>DGK</th>\n",
       "      <th>NKTD</th>\n",
       "      <th>NKTM</th>\n",
       "      <th>NKTR</th>\n",
       "      <th>ALPS</th>\n",
       "      <th>lith</th>\n",
       "      <th>goal</th>\n",
       "    </tr>\n",
       "  </thead>\n",
       "  <tbody>\n",
       "    <tr>\n",
       "      <th>0</th>\n",
       "      <td>12.0</td>\n",
       "      <td>3042.4630</td>\n",
       "      <td>0.455779</td>\n",
       "      <td>0.774000</td>\n",
       "      <td>0.774000</td>\n",
       "      <td>0.332846</td>\n",
       "      <td>0.476545</td>\n",
       "      <td>0.774000</td>\n",
       "      <td>0.244898</td>\n",
       "      <td>0.123651</td>\n",
       "      <td>0.774000</td>\n",
       "      <td>0.799167</td>\n",
       "      <td>0.174639</td>\n",
       "      <td>0.727789</td>\n",
       "      <td>NK</td>\n",
       "      <td>0.0</td>\n",
       "    </tr>\n",
       "    <tr>\n",
       "      <th>1</th>\n",
       "      <td>33.0</td>\n",
       "      <td>2412.8305</td>\n",
       "      <td>NaN</td>\n",
       "      <td>0.157153</td>\n",
       "      <td>0.755472</td>\n",
       "      <td>0.453216</td>\n",
       "      <td>0.715147</td>\n",
       "      <td>NaN</td>\n",
       "      <td>0.523432</td>\n",
       "      <td>0.388729</td>\n",
       "      <td>0.519233</td>\n",
       "      <td>0.799167</td>\n",
       "      <td>0.563573</td>\n",
       "      <td>0.111216</td>\n",
       "      <td>ARGILLIT</td>\n",
       "      <td>0.0</td>\n",
       "    </tr>\n",
       "    <tr>\n",
       "      <th>2</th>\n",
       "      <td>33.0</td>\n",
       "      <td>2522.5575</td>\n",
       "      <td>NaN</td>\n",
       "      <td>0.172235</td>\n",
       "      <td>0.941742</td>\n",
       "      <td>0.525711</td>\n",
       "      <td>0.668600</td>\n",
       "      <td>NaN</td>\n",
       "      <td>0.588924</td>\n",
       "      <td>0.515214</td>\n",
       "      <td>0.527139</td>\n",
       "      <td>0.799167</td>\n",
       "      <td>0.551152</td>\n",
       "      <td>0.172359</td>\n",
       "      <td>ARGILLIT</td>\n",
       "      <td>0.0</td>\n",
       "    </tr>\n",
       "    <tr>\n",
       "      <th>3</th>\n",
       "      <td>49.0</td>\n",
       "      <td>2396.3625</td>\n",
       "      <td>0.381248</td>\n",
       "      <td>0.246838</td>\n",
       "      <td>0.116913</td>\n",
       "      <td>0.732654</td>\n",
       "      <td>0.151299</td>\n",
       "      <td>0.165219</td>\n",
       "      <td>0.656955</td>\n",
       "      <td>0.445917</td>\n",
       "      <td>0.575175</td>\n",
       "      <td>0.799167</td>\n",
       "      <td>0.429433</td>\n",
       "      <td>0.253563</td>\n",
       "      <td>ARGILLIT</td>\n",
       "      <td>0.0</td>\n",
       "    </tr>\n",
       "    <tr>\n",
       "      <th>4</th>\n",
       "      <td>49.0</td>\n",
       "      <td>2399.0475</td>\n",
       "      <td>0.356867</td>\n",
       "      <td>0.226241</td>\n",
       "      <td>0.155473</td>\n",
       "      <td>0.613300</td>\n",
       "      <td>0.173949</td>\n",
       "      <td>0.297194</td>\n",
       "      <td>0.773218</td>\n",
       "      <td>0.392743</td>\n",
       "      <td>0.575725</td>\n",
       "      <td>0.799167</td>\n",
       "      <td>0.447169</td>\n",
       "      <td>0.959633</td>\n",
       "      <td>ARGILLIT</td>\n",
       "      <td>0.0</td>\n",
       "    </tr>\n",
       "  </tbody>\n",
       "</table>\n",
       "</div>"
      ],
      "text/plain": [
       "   well id   depth, m        bk       GZ1       GZ2       GZ3       GZ4  \\\n",
       "0     12.0  3042.4630  0.455779  0.774000  0.774000  0.332846  0.476545   \n",
       "1     33.0  2412.8305       NaN  0.157153  0.755472  0.453216  0.715147   \n",
       "2     33.0  2522.5575       NaN  0.172235  0.941742  0.525711  0.668600   \n",
       "3     49.0  2396.3625  0.381248  0.246838  0.116913  0.732654  0.151299   \n",
       "4     49.0  2399.0475  0.356867  0.226241  0.155473  0.613300  0.173949   \n",
       "\n",
       "        GZ5       GZ7       DGK      NKTD      NKTM      NKTR      ALPS  \\\n",
       "0  0.774000  0.244898  0.123651  0.774000  0.799167  0.174639  0.727789   \n",
       "1       NaN  0.523432  0.388729  0.519233  0.799167  0.563573  0.111216   \n",
       "2       NaN  0.588924  0.515214  0.527139  0.799167  0.551152  0.172359   \n",
       "3  0.165219  0.656955  0.445917  0.575175  0.799167  0.429433  0.253563   \n",
       "4  0.297194  0.773218  0.392743  0.575725  0.799167  0.447169  0.959633   \n",
       "\n",
       "       lith  goal  \n",
       "0        NK   0.0  \n",
       "1  ARGILLIT   0.0  \n",
       "2  ARGILLIT   0.0  \n",
       "3  ARGILLIT   0.0  \n",
       "4  ARGILLIT   0.0  "
      ]
     },
     "execution_count": 17,
     "metadata": {},
     "output_type": "execute_result"
    }
   ],
   "source": [
    "prices = {'bk': 2450, 'GZ1': 2050, 'GZ2': 2050, 'GZ3': 2050,\n",
    "          'GZ4': 2050, 'GZ5': 2050, 'GZ7': 2050,\n",
    "          'DGK': 1300, 'NKTD': 2050, 'NKTM': 2050, 'NKTR': 2050,\n",
    "          'ALPS': 1150}\n",
    "\n",
    "train = train[train['well id'].notnull()]\n",
    "train.head()"
   ]
  },
  {
   "cell_type": "code",
   "execution_count": 7,
   "metadata": {},
   "outputs": [
    {
     "name": "stdout",
     "output_type": "stream",
     "text": [
      "CPU times: user 8.18 s, sys: 644 ms, total: 8.82 s\n",
      "Wall time: 8.82 s\n"
     ]
    }
   ],
   "source": [
    "%%time\n",
    "train_many_features = pd.read_csv('fixed_train.csv')"
   ]
  },
  {
   "cell_type": "code",
   "execution_count": 13,
   "metadata": {},
   "outputs": [],
   "source": [
    "train = train[train['well id'].notnull()]"
   ]
  },
  {
   "cell_type": "code",
   "execution_count": 15,
   "metadata": {},
   "outputs": [
    {
     "name": "stderr",
     "output_type": "stream",
     "text": [
      "/home/iprovilkov/data/p3.5/lib/python3.5/site-packages/pandas/core/frame.py:4034: SettingWithCopyWarning: \n",
      "A value is trying to be set on a copy of a slice from a DataFrame\n",
      "\n",
      "See the caveats in the documentation: http://pandas.pydata.org/pandas-docs/stable/indexing.html#indexing-view-versus-copy\n",
      "  downcast=downcast, **kwargs)\n"
     ]
    }
   ],
   "source": [
    "train.fillna(0, inplace=True)"
   ]
  },
  {
   "cell_type": "code",
   "execution_count": 17,
   "metadata": {},
   "outputs": [],
   "source": [
    "test.fillna(0, inplace=True)"
   ]
  },
  {
   "cell_type": "code",
   "execution_count": 18,
   "metadata": {},
   "outputs": [],
   "source": [
    "from sklearn import preprocessing"
   ]
  },
  {
   "cell_type": "code",
   "execution_count": 56,
   "metadata": {},
   "outputs": [],
   "source": [
    "dense_train = train[train.columns[1:-2]]"
   ]
  },
  {
   "cell_type": "code",
   "execution_count": 57,
   "metadata": {},
   "outputs": [],
   "source": [
    "min_max_scaler = preprocessing.MinMaxScaler()\n",
    "dense_train_scaled = min_max_scaler.fit_transform(dense_train)"
   ]
  },
  {
   "cell_type": "code",
   "execution_count": 58,
   "metadata": {},
   "outputs": [
    {
     "data": {
      "text/plain": [
       "array([[0.9482561 , 0.45584762, 0.77402056, 0.77418891, 0.33284805,\n",
       "        0.47656398, 0.77490357, 0.24498382, 0.12371135, 0.96798537,\n",
       "        1.        , 0.17488977, 0.72779162],\n",
       "       [0.66026691, 0.        , 0.15715676, 0.7556562 , 0.45321847,\n",
       "        0.71517533, 0.        , 0.52361605, 0.38891753, 0.64936715,\n",
       "        1.        , 0.56438115, 0.11121639],\n",
       "       [0.71045522, 0.        , 0.17223992, 0.94197218, 0.52571448,\n",
       "        0.66862663, 0.        , 0.58913154, 0.51546392, 0.65925427,\n",
       "        1.        , 0.55194216, 0.17235956],\n",
       "       [0.65273457, 0.3813061 , 0.24684478, 0.11694138, 0.73265874,\n",
       "        0.1513046 , 0.16541176, 0.65718639, 0.44613402, 0.71932995,\n",
       "        1.        , 0.43004867, 0.25356386],\n",
       "       [0.65396267, 0.35692142, 0.22624735, 0.15551119, 0.61330346,\n",
       "        0.17395564, 0.29754131, 0.77348978, 0.39293354, 0.72001775,\n",
       "        1.        , 0.44780955, 0.9596364 ]])"
      ]
     },
     "execution_count": 58,
     "metadata": {},
     "output_type": "execute_result"
    }
   ],
   "source": [
    "dense_train_scaled[:5]"
   ]
  },
  {
   "cell_type": "code",
   "execution_count": 59,
   "metadata": {},
   "outputs": [],
   "source": [
    "target = train['goal']"
   ]
  },
  {
   "cell_type": "code",
   "execution_count": 60,
   "metadata": {},
   "outputs": [],
   "source": [
    "import random\n",
    "import numpy as np"
   ]
  },
  {
   "cell_type": "code",
   "execution_count": 61,
   "metadata": {},
   "outputs": [],
   "source": [
    "a = np.arange(target.shape[0])"
   ]
  },
  {
   "cell_type": "code",
   "execution_count": 62,
   "metadata": {},
   "outputs": [],
   "source": [
    "from sklearn.model_selection import train_test_split"
   ]
  },
  {
   "cell_type": "code",
   "execution_count": 63,
   "metadata": {},
   "outputs": [],
   "source": [
    "default = ['depth']\n",
    "bk = ['bk']\n",
    "GZ = ['GZ1', 'GZ2', 'GZ3', 'GZ4', 'GZ5', 'GZ7']\n",
    "DGK = ['DGK']\n",
    "NKT = ['NKTD', 'NKTM', 'NKTR']\n",
    "ALPS = ['ALPS']"
   ]
  },
  {
   "cell_type": "code",
   "execution_count": 64,
   "metadata": {},
   "outputs": [],
   "source": [
    "all_f = [bk, GZ, DGK, NKT,ALPS]"
   ]
  },
  {
   "cell_type": "code",
   "execution_count": 65,
   "metadata": {},
   "outputs": [],
   "source": [
    "from itertools import chain, combinations\n",
    "\n",
    "def powerset(iterable):\n",
    "    \"powerset([1,2,3]) --> () (1,) (2,) (3,) (1,2) (1,3) (2,3) (1,2,3)\"\n",
    "    s = list(iterable)\n",
    "    return chain.from_iterable(combinations(s, r) for r in range(len(s)+1))"
   ]
  },
  {
   "cell_type": "code",
   "execution_count": 66,
   "metadata": {},
   "outputs": [],
   "source": [
    "from sklearn.linear_model import SGDClassifier, LogisticRegression, Perceptron, PassiveAggressiveClassifier"
   ]
  },
  {
   "cell_type": "code",
   "execution_count": 67,
   "metadata": {},
   "outputs": [],
   "source": [
    "from sklearn.metrics import f1_score"
   ]
  },
  {
   "cell_type": "code",
   "execution_count": 68,
   "metadata": {},
   "outputs": [
    {
     "data": {
      "text/plain": [
       "array([[0.9482561 , 0.45584762, 0.77402056, 0.77418891, 0.33284805,\n",
       "        0.47656398, 0.77490357, 0.24498382, 0.12371135, 0.96798537,\n",
       "        1.        , 0.17488977, 0.72779162],\n",
       "       [0.66026691, 0.        , 0.15715676, 0.7556562 , 0.45321847,\n",
       "        0.71517533, 0.        , 0.52361605, 0.38891753, 0.64936715,\n",
       "        1.        , 0.56438115, 0.11121639],\n",
       "       [0.71045522, 0.        , 0.17223992, 0.94197218, 0.52571448,\n",
       "        0.66862663, 0.        , 0.58913154, 0.51546392, 0.65925427,\n",
       "        1.        , 0.55194216, 0.17235956],\n",
       "       [0.65273457, 0.3813061 , 0.24684478, 0.11694138, 0.73265874,\n",
       "        0.1513046 , 0.16541176, 0.65718639, 0.44613402, 0.71932995,\n",
       "        1.        , 0.43004867, 0.25356386],\n",
       "       [0.65396267, 0.35692142, 0.22624735, 0.15551119, 0.61330346,\n",
       "        0.17395564, 0.29754131, 0.77348978, 0.39293354, 0.72001775,\n",
       "        1.        , 0.44780955, 0.9596364 ]])"
      ]
     },
     "execution_count": 68,
     "metadata": {},
     "output_type": "execute_result"
    }
   ],
   "source": [
    "dense_train_scaled[:5]"
   ]
  },
  {
   "cell_type": "code",
   "execution_count": 69,
   "metadata": {},
   "outputs": [],
   "source": [
    "str_to_id = {}\n",
    "\n",
    "for i, st in enumerate(list(dense_train.columns)):\n",
    "    str_to_id[st] = i"
   ]
  },
  {
   "cell_type": "code",
   "execution_count": 70,
   "metadata": {},
   "outputs": [
    {
     "data": {
      "text/plain": [
       "{'ALPS': 12,\n",
       " 'DGK': 8,\n",
       " 'GZ1': 2,\n",
       " 'GZ2': 3,\n",
       " 'GZ3': 4,\n",
       " 'GZ4': 5,\n",
       " 'GZ5': 6,\n",
       " 'GZ7': 7,\n",
       " 'NKTD': 9,\n",
       " 'NKTM': 10,\n",
       " 'NKTR': 11,\n",
       " 'bk': 1,\n",
       " 'depth, m': 0}"
      ]
     },
     "execution_count": 70,
     "metadata": {},
     "output_type": "execute_result"
    }
   ],
   "source": [
    "str_to_id"
   ]
  },
  {
   "cell_type": "code",
   "execution_count": 88,
   "metadata": {},
   "outputs": [
    {
     "data": {
      "text/plain": [
       "(463897, 13)"
      ]
     },
     "execution_count": 88,
     "metadata": {},
     "output_type": "execute_result"
    }
   ],
   "source": [
    "dense_train_scaled.shape"
   ]
  },
  {
   "cell_type": "code",
   "execution_count": 89,
   "metadata": {
    "scrolled": true
   },
   "outputs": [
    {
     "name": "stderr",
     "output_type": "stream",
     "text": [
      "/home/iprovilkov/data/p3.5/lib/python3.5/site-packages/sklearn/linear_model/stochastic_gradient.py:166: FutureWarning: max_iter and tol parameters have been added in Perceptron in 0.19. If both are left unset, they default to max_iter=5 and tol=None. If tol is not None, max_iter defaults to max_iter=1000. From 0.21, default max_iter will be 1000, and default tol will be 1e-3.\n",
      "  FutureWarning)\n",
      "/home/iprovilkov/data/p3.5/lib/python3.5/site-packages/sklearn/metrics/classification.py:1143: UndefinedMetricWarning: F-score is ill-defined and being set to 0.0 due to no predicted samples.\n",
      "  'precision', 'predicted', average, warn_for)\n"
     ]
    },
    {
     "name": "stdout",
     "output_type": "stream",
     "text": [
      "0.0\n"
     ]
    },
    {
     "name": "stderr",
     "output_type": "stream",
     "text": [
      "/home/iprovilkov/data/p3.5/lib/python3.5/site-packages/sklearn/linear_model/stochastic_gradient.py:166: FutureWarning: max_iter and tol parameters have been added in Perceptron in 0.19. If both are left unset, they default to max_iter=5 and tol=None. If tol is not None, max_iter defaults to max_iter=1000. From 0.21, default max_iter will be 1000, and default tol will be 1e-3.\n",
      "  FutureWarning)\n"
     ]
    },
    {
     "name": "stdout",
     "output_type": "stream",
     "text": [
      "0.2956578164710972\n"
     ]
    },
    {
     "name": "stderr",
     "output_type": "stream",
     "text": [
      "/home/iprovilkov/data/p3.5/lib/python3.5/site-packages/sklearn/linear_model/stochastic_gradient.py:166: FutureWarning: max_iter and tol parameters have been added in Perceptron in 0.19. If both are left unset, they default to max_iter=5 and tol=None. If tol is not None, max_iter defaults to max_iter=1000. From 0.21, default max_iter will be 1000, and default tol will be 1e-3.\n",
      "  FutureWarning)\n",
      "/home/iprovilkov/data/p3.5/lib/python3.5/site-packages/sklearn/metrics/classification.py:1143: UndefinedMetricWarning: F-score is ill-defined and being set to 0.0 due to no predicted samples.\n",
      "  'precision', 'predicted', average, warn_for)\n"
     ]
    },
    {
     "name": "stdout",
     "output_type": "stream",
     "text": [
      "0.0\n"
     ]
    },
    {
     "name": "stderr",
     "output_type": "stream",
     "text": [
      "/home/iprovilkov/data/p3.5/lib/python3.5/site-packages/sklearn/linear_model/stochastic_gradient.py:166: FutureWarning: max_iter and tol parameters have been added in Perceptron in 0.19. If both are left unset, they default to max_iter=5 and tol=None. If tol is not None, max_iter defaults to max_iter=1000. From 0.21, default max_iter will be 1000, and default tol will be 1e-3.\n",
      "  FutureWarning)\n"
     ]
    },
    {
     "name": "stdout",
     "output_type": "stream",
     "text": [
      "0.18498664022720016\n"
     ]
    },
    {
     "name": "stderr",
     "output_type": "stream",
     "text": [
      "/home/iprovilkov/data/p3.5/lib/python3.5/site-packages/sklearn/linear_model/stochastic_gradient.py:166: FutureWarning: max_iter and tol parameters have been added in Perceptron in 0.19. If both are left unset, they default to max_iter=5 and tol=None. If tol is not None, max_iter defaults to max_iter=1000. From 0.21, default max_iter will be 1000, and default tol will be 1e-3.\n",
      "  FutureWarning)\n",
      "/home/iprovilkov/data/p3.5/lib/python3.5/site-packages/sklearn/metrics/classification.py:1143: UndefinedMetricWarning: F-score is ill-defined and being set to 0.0 due to no predicted samples.\n",
      "  'precision', 'predicted', average, warn_for)\n"
     ]
    },
    {
     "name": "stdout",
     "output_type": "stream",
     "text": [
      "0.0\n"
     ]
    },
    {
     "name": "stderr",
     "output_type": "stream",
     "text": [
      "/home/iprovilkov/data/p3.5/lib/python3.5/site-packages/sklearn/linear_model/stochastic_gradient.py:166: FutureWarning: max_iter and tol parameters have been added in Perceptron in 0.19. If both are left unset, they default to max_iter=5 and tol=None. If tol is not None, max_iter defaults to max_iter=1000. From 0.21, default max_iter will be 1000, and default tol will be 1e-3.\n",
      "  FutureWarning)\n"
     ]
    },
    {
     "name": "stdout",
     "output_type": "stream",
     "text": [
      "0.19888049635824118\n"
     ]
    },
    {
     "name": "stderr",
     "output_type": "stream",
     "text": [
      "/home/iprovilkov/data/p3.5/lib/python3.5/site-packages/sklearn/linear_model/stochastic_gradient.py:166: FutureWarning: max_iter and tol parameters have been added in Perceptron in 0.19. If both are left unset, they default to max_iter=5 and tol=None. If tol is not None, max_iter defaults to max_iter=1000. From 0.21, default max_iter will be 1000, and default tol will be 1e-3.\n",
      "  FutureWarning)\n"
     ]
    },
    {
     "name": "stdout",
     "output_type": "stream",
     "text": [
      "0.03275920297196893\n"
     ]
    },
    {
     "name": "stderr",
     "output_type": "stream",
     "text": [
      "/home/iprovilkov/data/p3.5/lib/python3.5/site-packages/sklearn/linear_model/stochastic_gradient.py:166: FutureWarning: max_iter and tol parameters have been added in Perceptron in 0.19. If both are left unset, they default to max_iter=5 and tol=None. If tol is not None, max_iter defaults to max_iter=1000. From 0.21, default max_iter will be 1000, and default tol will be 1e-3.\n",
      "  FutureWarning)\n",
      "/home/iprovilkov/data/p3.5/lib/python3.5/site-packages/sklearn/metrics/classification.py:1143: UndefinedMetricWarning: F-score is ill-defined and being set to 0.0 due to no predicted samples.\n",
      "  'precision', 'predicted', average, warn_for)\n",
      "/home/iprovilkov/data/p3.5/lib/python3.5/site-packages/sklearn/linear_model/stochastic_gradient.py:166: FutureWarning: max_iter and tol parameters have been added in Perceptron in 0.19. If both are left unset, they default to max_iter=5 and tol=None. If tol is not None, max_iter defaults to max_iter=1000. From 0.21, default max_iter will be 1000, and default tol will be 1e-3.\n",
      "  FutureWarning)\n"
     ]
    },
    {
     "name": "stdout",
     "output_type": "stream",
     "text": [
      "0.0\n"
     ]
    },
    {
     "name": "stderr",
     "output_type": "stream",
     "text": [
      "/home/iprovilkov/data/p3.5/lib/python3.5/site-packages/sklearn/metrics/classification.py:1143: UndefinedMetricWarning: F-score is ill-defined and being set to 0.0 due to no predicted samples.\n",
      "  'precision', 'predicted', average, warn_for)\n",
      "/home/iprovilkov/data/p3.5/lib/python3.5/site-packages/sklearn/linear_model/stochastic_gradient.py:166: FutureWarning: max_iter and tol parameters have been added in Perceptron in 0.19. If both are left unset, they default to max_iter=5 and tol=None. If tol is not None, max_iter defaults to max_iter=1000. From 0.21, default max_iter will be 1000, and default tol will be 1e-3.\n",
      "  FutureWarning)\n"
     ]
    },
    {
     "name": "stdout",
     "output_type": "stream",
     "text": [
      "0.0\n",
      "0.29681378730559066\n"
     ]
    },
    {
     "name": "stderr",
     "output_type": "stream",
     "text": [
      "/home/iprovilkov/data/p3.5/lib/python3.5/site-packages/sklearn/linear_model/stochastic_gradient.py:166: FutureWarning: max_iter and tol parameters have been added in Perceptron in 0.19. If both are left unset, they default to max_iter=5 and tol=None. If tol is not None, max_iter defaults to max_iter=1000. From 0.21, default max_iter will be 1000, and default tol will be 1e-3.\n",
      "  FutureWarning)\n"
     ]
    },
    {
     "name": "stdout",
     "output_type": "stream",
     "text": [
      "0.28206008365434737\n"
     ]
    },
    {
     "name": "stderr",
     "output_type": "stream",
     "text": [
      "/home/iprovilkov/data/p3.5/lib/python3.5/site-packages/sklearn/linear_model/stochastic_gradient.py:166: FutureWarning: max_iter and tol parameters have been added in Perceptron in 0.19. If both are left unset, they default to max_iter=5 and tol=None. If tol is not None, max_iter defaults to max_iter=1000. From 0.21, default max_iter will be 1000, and default tol will be 1e-3.\n",
      "  FutureWarning)\n"
     ]
    },
    {
     "name": "stdout",
     "output_type": "stream",
     "text": [
      "0.24938738360288457\n"
     ]
    },
    {
     "name": "stderr",
     "output_type": "stream",
     "text": [
      "/home/iprovilkov/data/p3.5/lib/python3.5/site-packages/sklearn/linear_model/stochastic_gradient.py:166: FutureWarning: max_iter and tol parameters have been added in Perceptron in 0.19. If both are left unset, they default to max_iter=5 and tol=None. If tol is not None, max_iter defaults to max_iter=1000. From 0.21, default max_iter will be 1000, and default tol will be 1e-3.\n",
      "  FutureWarning)\n"
     ]
    },
    {
     "name": "stdout",
     "output_type": "stream",
     "text": [
      "0.01976748896180176\n"
     ]
    },
    {
     "name": "stderr",
     "output_type": "stream",
     "text": [
      "/home/iprovilkov/data/p3.5/lib/python3.5/site-packages/sklearn/linear_model/stochastic_gradient.py:166: FutureWarning: max_iter and tol parameters have been added in Perceptron in 0.19. If both are left unset, they default to max_iter=5 and tol=None. If tol is not None, max_iter defaults to max_iter=1000. From 0.21, default max_iter will be 1000, and default tol will be 1e-3.\n",
      "  FutureWarning)\n"
     ]
    },
    {
     "name": "stdout",
     "output_type": "stream",
     "text": [
      "0.00016655562958027982\n"
     ]
    },
    {
     "name": "stderr",
     "output_type": "stream",
     "text": [
      "/home/iprovilkov/data/p3.5/lib/python3.5/site-packages/sklearn/linear_model/stochastic_gradient.py:166: FutureWarning: max_iter and tol parameters have been added in Perceptron in 0.19. If both are left unset, they default to max_iter=5 and tol=None. If tol is not None, max_iter defaults to max_iter=1000. From 0.21, default max_iter will be 1000, and default tol will be 1e-3.\n",
      "  FutureWarning)\n"
     ]
    },
    {
     "name": "stdout",
     "output_type": "stream",
     "text": [
      "0.0628519124622084\n"
     ]
    },
    {
     "name": "stderr",
     "output_type": "stream",
     "text": [
      "/home/iprovilkov/data/p3.5/lib/python3.5/site-packages/sklearn/linear_model/stochastic_gradient.py:166: FutureWarning: max_iter and tol parameters have been added in Perceptron in 0.19. If both are left unset, they default to max_iter=5 and tol=None. If tol is not None, max_iter defaults to max_iter=1000. From 0.21, default max_iter will be 1000, and default tol will be 1e-3.\n",
      "  FutureWarning)\n"
     ]
    },
    {
     "name": "stdout",
     "output_type": "stream",
     "text": [
      "0.037019075331393474\n"
     ]
    },
    {
     "name": "stderr",
     "output_type": "stream",
     "text": [
      "/home/iprovilkov/data/p3.5/lib/python3.5/site-packages/sklearn/linear_model/stochastic_gradient.py:166: FutureWarning: max_iter and tol parameters have been added in Perceptron in 0.19. If both are left unset, they default to max_iter=5 and tol=None. If tol is not None, max_iter defaults to max_iter=1000. From 0.21, default max_iter will be 1000, and default tol will be 1e-3.\n",
      "  FutureWarning)\n"
     ]
    },
    {
     "name": "stdout",
     "output_type": "stream",
     "text": [
      "0.0018956529231829735\n"
     ]
    },
    {
     "name": "stderr",
     "output_type": "stream",
     "text": [
      "/home/iprovilkov/data/p3.5/lib/python3.5/site-packages/sklearn/linear_model/stochastic_gradient.py:166: FutureWarning: max_iter and tol parameters have been added in Perceptron in 0.19. If both are left unset, they default to max_iter=5 and tol=None. If tol is not None, max_iter defaults to max_iter=1000. From 0.21, default max_iter will be 1000, and default tol will be 1e-3.\n",
      "  FutureWarning)\n"
     ]
    },
    {
     "name": "stdout",
     "output_type": "stream",
     "text": [
      "0.09876890608512136\n"
     ]
    },
    {
     "name": "stderr",
     "output_type": "stream",
     "text": [
      "/home/iprovilkov/data/p3.5/lib/python3.5/site-packages/sklearn/linear_model/stochastic_gradient.py:166: FutureWarning: max_iter and tol parameters have been added in Perceptron in 0.19. If both are left unset, they default to max_iter=5 and tol=None. If tol is not None, max_iter defaults to max_iter=1000. From 0.21, default max_iter will be 1000, and default tol will be 1e-3.\n",
      "  FutureWarning)\n"
     ]
    },
    {
     "name": "stdout",
     "output_type": "stream",
     "text": [
      "0.09145910269505775\n"
     ]
    },
    {
     "name": "stderr",
     "output_type": "stream",
     "text": [
      "/home/iprovilkov/data/p3.5/lib/python3.5/site-packages/sklearn/linear_model/stochastic_gradient.py:166: FutureWarning: max_iter and tol parameters have been added in Perceptron in 0.19. If both are left unset, they default to max_iter=5 and tol=None. If tol is not None, max_iter defaults to max_iter=1000. From 0.21, default max_iter will be 1000, and default tol will be 1e-3.\n",
      "  FutureWarning)\n",
      "/home/iprovilkov/data/p3.5/lib/python3.5/site-packages/sklearn/metrics/classification.py:1143: UndefinedMetricWarning: F-score is ill-defined and being set to 0.0 due to no predicted samples.\n",
      "  'precision', 'predicted', average, warn_for)\n",
      "/home/iprovilkov/data/p3.5/lib/python3.5/site-packages/sklearn/linear_model/stochastic_gradient.py:166: FutureWarning: max_iter and tol parameters have been added in Perceptron in 0.19. If both are left unset, they default to max_iter=5 and tol=None. If tol is not None, max_iter defaults to max_iter=1000. From 0.21, default max_iter will be 1000, and default tol will be 1e-3.\n",
      "  FutureWarning)\n"
     ]
    },
    {
     "name": "stdout",
     "output_type": "stream",
     "text": [
      "0.0\n",
      "0.0\n"
     ]
    },
    {
     "name": "stderr",
     "output_type": "stream",
     "text": [
      "/home/iprovilkov/data/p3.5/lib/python3.5/site-packages/sklearn/linear_model/stochastic_gradient.py:166: FutureWarning: max_iter and tol parameters have been added in Perceptron in 0.19. If both are left unset, they default to max_iter=5 and tol=None. If tol is not None, max_iter defaults to max_iter=1000. From 0.21, default max_iter will be 1000, and default tol will be 1e-3.\n",
      "  FutureWarning)\n"
     ]
    },
    {
     "name": "stdout",
     "output_type": "stream",
     "text": [
      "0.27403966410577096\n"
     ]
    },
    {
     "name": "stderr",
     "output_type": "stream",
     "text": [
      "/home/iprovilkov/data/p3.5/lib/python3.5/site-packages/sklearn/linear_model/stochastic_gradient.py:166: FutureWarning: max_iter and tol parameters have been added in Perceptron in 0.19. If both are left unset, they default to max_iter=5 and tol=None. If tol is not None, max_iter defaults to max_iter=1000. From 0.21, default max_iter will be 1000, and default tol will be 1e-3.\n",
      "  FutureWarning)\n"
     ]
    },
    {
     "name": "stdout",
     "output_type": "stream",
     "text": [
      "0.1012718271026652\n"
     ]
    },
    {
     "name": "stderr",
     "output_type": "stream",
     "text": [
      "/home/iprovilkov/data/p3.5/lib/python3.5/site-packages/sklearn/linear_model/stochastic_gradient.py:166: FutureWarning: max_iter and tol parameters have been added in Perceptron in 0.19. If both are left unset, they default to max_iter=5 and tol=None. If tol is not None, max_iter defaults to max_iter=1000. From 0.21, default max_iter will be 1000, and default tol will be 1e-3.\n",
      "  FutureWarning)\n"
     ]
    },
    {
     "name": "stdout",
     "output_type": "stream",
     "text": [
      "0.1031802650846694\n"
     ]
    },
    {
     "name": "stderr",
     "output_type": "stream",
     "text": [
      "/home/iprovilkov/data/p3.5/lib/python3.5/site-packages/sklearn/linear_model/stochastic_gradient.py:166: FutureWarning: max_iter and tol parameters have been added in Perceptron in 0.19. If both are left unset, they default to max_iter=5 and tol=None. If tol is not None, max_iter defaults to max_iter=1000. From 0.21, default max_iter will be 1000, and default tol will be 1e-3.\n",
      "  FutureWarning)\n"
     ]
    },
    {
     "name": "stdout",
     "output_type": "stream",
     "text": [
      "0.3080499775671965\n"
     ]
    },
    {
     "name": "stderr",
     "output_type": "stream",
     "text": [
      "/home/iprovilkov/data/p3.5/lib/python3.5/site-packages/sklearn/linear_model/stochastic_gradient.py:166: FutureWarning: max_iter and tol parameters have been added in Perceptron in 0.19. If both are left unset, they default to max_iter=5 and tol=None. If tol is not None, max_iter defaults to max_iter=1000. From 0.21, default max_iter will be 1000, and default tol will be 1e-3.\n",
      "  FutureWarning)\n"
     ]
    },
    {
     "name": "stdout",
     "output_type": "stream",
     "text": [
      "0.3074725200847087\n"
     ]
    },
    {
     "name": "stderr",
     "output_type": "stream",
     "text": [
      "/home/iprovilkov/data/p3.5/lib/python3.5/site-packages/sklearn/linear_model/stochastic_gradient.py:166: FutureWarning: max_iter and tol parameters have been added in Perceptron in 0.19. If both are left unset, they default to max_iter=5 and tol=None. If tol is not None, max_iter defaults to max_iter=1000. From 0.21, default max_iter will be 1000, and default tol will be 1e-3.\n",
      "  FutureWarning)\n"
     ]
    },
    {
     "name": "stdout",
     "output_type": "stream",
     "text": [
      "0.16316989071357604\n"
     ]
    },
    {
     "name": "stderr",
     "output_type": "stream",
     "text": [
      "/home/iprovilkov/data/p3.5/lib/python3.5/site-packages/sklearn/linear_model/stochastic_gradient.py:166: FutureWarning: max_iter and tol parameters have been added in Perceptron in 0.19. If both are left unset, they default to max_iter=5 and tol=None. If tol is not None, max_iter defaults to max_iter=1000. From 0.21, default max_iter will be 1000, and default tol will be 1e-3.\n",
      "  FutureWarning)\n"
     ]
    },
    {
     "name": "stdout",
     "output_type": "stream",
     "text": [
      "0.3440744483967081\n"
     ]
    },
    {
     "name": "stderr",
     "output_type": "stream",
     "text": [
      "/home/iprovilkov/data/p3.5/lib/python3.5/site-packages/sklearn/linear_model/stochastic_gradient.py:166: FutureWarning: max_iter and tol parameters have been added in Perceptron in 0.19. If both are left unset, they default to max_iter=5 and tol=None. If tol is not None, max_iter defaults to max_iter=1000. From 0.21, default max_iter will be 1000, and default tol will be 1e-3.\n",
      "  FutureWarning)\n"
     ]
    },
    {
     "name": "stdout",
     "output_type": "stream",
     "text": [
      "0.0083500334001336\n"
     ]
    },
    {
     "name": "stderr",
     "output_type": "stream",
     "text": [
      "/home/iprovilkov/data/p3.5/lib/python3.5/site-packages/sklearn/linear_model/stochastic_gradient.py:166: FutureWarning: max_iter and tol parameters have been added in Perceptron in 0.19. If both are left unset, they default to max_iter=5 and tol=None. If tol is not None, max_iter defaults to max_iter=1000. From 0.21, default max_iter will be 1000, and default tol will be 1e-3.\n",
      "  FutureWarning)\n"
     ]
    },
    {
     "name": "stdout",
     "output_type": "stream",
     "text": [
      "0.06802113567016448\n"
     ]
    },
    {
     "name": "stderr",
     "output_type": "stream",
     "text": [
      "/home/iprovilkov/data/p3.5/lib/python3.5/site-packages/sklearn/linear_model/stochastic_gradient.py:166: FutureWarning: max_iter and tol parameters have been added in Perceptron in 0.19. If both are left unset, they default to max_iter=5 and tol=None. If tol is not None, max_iter defaults to max_iter=1000. From 0.21, default max_iter will be 1000, and default tol will be 1e-3.\n",
      "  FutureWarning)\n"
     ]
    },
    {
     "name": "stdout",
     "output_type": "stream",
     "text": [
      "0.1475071556946016\n"
     ]
    }
   ],
   "source": [
    "features_list = []\n",
    "scores = []\n",
    "for subset in powerset(all_f):\n",
    "    features_list.append(subset)\n",
    "    cls = Perceptron()\n",
    "    lst = []\n",
    "    for i in subset:\n",
    "        lst += i\n",
    "    mask = [str_to_id[st] for st in lst]\n",
    "    if len(mask) == 0:\n",
    "        continue\n",
    "    X_train, X_test, y_train, y_test = train_test_split(dense_train_scaled[:, mask], target, test_size=0.33, random_state=42)\n",
    "    cls.fit(X_train, y_train)\n",
    "    pred = cls.predict(X_test)\n",
    "    score = f1_score(y_test, pred)\n",
    "    print(score)\n",
    "    scores.append(score)"
   ]
  },
  {
   "cell_type": "code",
   "execution_count": 90,
   "metadata": {},
   "outputs": [],
   "source": [
    "idx = np.argsort(scores)[::-1]"
   ]
  },
  {
   "cell_type": "code",
   "execution_count": 91,
   "metadata": {},
   "outputs": [
    {
     "data": {
      "text/plain": [
       "[0.0,\n",
       " 0.2956578164710972,\n",
       " 0.0,\n",
       " 0.18498664022720016,\n",
       " 0.0,\n",
       " 0.19888049635824118,\n",
       " 0.03275920297196893,\n",
       " 0.0,\n",
       " 0.0,\n",
       " 0.29681378730559066,\n",
       " 0.28206008365434737,\n",
       " 0.24938738360288457,\n",
       " 0.01976748896180176,\n",
       " 0.00016655562958027982,\n",
       " 0.0628519124622084,\n",
       " 0.037019075331393474,\n",
       " 0.0018956529231829735,\n",
       " 0.09876890608512136,\n",
       " 0.09145910269505775,\n",
       " 0.0,\n",
       " 0.0,\n",
       " 0.27403966410577096,\n",
       " 0.1012718271026652,\n",
       " 0.1031802650846694,\n",
       " 0.3080499775671965,\n",
       " 0.3074725200847087,\n",
       " 0.16316989071357604,\n",
       " 0.3440744483967081,\n",
       " 0.0083500334001336,\n",
       " 0.06802113567016448,\n",
       " 0.1475071556946016]"
      ]
     },
     "execution_count": 91,
     "metadata": {},
     "output_type": "execute_result"
    }
   ],
   "source": [
    "scores"
   ]
  },
  {
   "cell_type": "code",
   "execution_count": 92,
   "metadata": {},
   "outputs": [
    {
     "data": {
      "text/plain": [
       "[(),\n",
       " (['bk'],),\n",
       " (['GZ1', 'GZ2', 'GZ3', 'GZ4', 'GZ5', 'GZ7'],),\n",
       " (['DGK'],),\n",
       " (['NKTD', 'NKTM', 'NKTR'],),\n",
       " (['ALPS'],),\n",
       " (['bk'], ['GZ1', 'GZ2', 'GZ3', 'GZ4', 'GZ5', 'GZ7']),\n",
       " (['bk'], ['DGK']),\n",
       " (['bk'], ['NKTD', 'NKTM', 'NKTR']),\n",
       " (['bk'], ['ALPS']),\n",
       " (['GZ1', 'GZ2', 'GZ3', 'GZ4', 'GZ5', 'GZ7'], ['DGK']),\n",
       " (['GZ1', 'GZ2', 'GZ3', 'GZ4', 'GZ5', 'GZ7'], ['NKTD', 'NKTM', 'NKTR']),\n",
       " (['GZ1', 'GZ2', 'GZ3', 'GZ4', 'GZ5', 'GZ7'], ['ALPS']),\n",
       " (['DGK'], ['NKTD', 'NKTM', 'NKTR']),\n",
       " (['DGK'], ['ALPS']),\n",
       " (['NKTD', 'NKTM', 'NKTR'], ['ALPS']),\n",
       " (['bk'], ['GZ1', 'GZ2', 'GZ3', 'GZ4', 'GZ5', 'GZ7'], ['DGK']),\n",
       " (['bk'],\n",
       "  ['GZ1', 'GZ2', 'GZ3', 'GZ4', 'GZ5', 'GZ7'],\n",
       "  ['NKTD', 'NKTM', 'NKTR']),\n",
       " (['bk'], ['GZ1', 'GZ2', 'GZ3', 'GZ4', 'GZ5', 'GZ7'], ['ALPS']),\n",
       " (['bk'], ['DGK'], ['NKTD', 'NKTM', 'NKTR']),\n",
       " (['bk'], ['DGK'], ['ALPS']),\n",
       " (['bk'], ['NKTD', 'NKTM', 'NKTR'], ['ALPS']),\n",
       " (['GZ1', 'GZ2', 'GZ3', 'GZ4', 'GZ5', 'GZ7'],\n",
       "  ['DGK'],\n",
       "  ['NKTD', 'NKTM', 'NKTR']),\n",
       " (['GZ1', 'GZ2', 'GZ3', 'GZ4', 'GZ5', 'GZ7'], ['DGK'], ['ALPS']),\n",
       " (['GZ1', 'GZ2', 'GZ3', 'GZ4', 'GZ5', 'GZ7'],\n",
       "  ['NKTD', 'NKTM', 'NKTR'],\n",
       "  ['ALPS']),\n",
       " (['DGK'], ['NKTD', 'NKTM', 'NKTR'], ['ALPS']),\n",
       " (['bk'],\n",
       "  ['GZ1', 'GZ2', 'GZ3', 'GZ4', 'GZ5', 'GZ7'],\n",
       "  ['DGK'],\n",
       "  ['NKTD', 'NKTM', 'NKTR']),\n",
       " (['bk'], ['GZ1', 'GZ2', 'GZ3', 'GZ4', 'GZ5', 'GZ7'], ['DGK'], ['ALPS']),\n",
       " (['bk'],\n",
       "  ['GZ1', 'GZ2', 'GZ3', 'GZ4', 'GZ5', 'GZ7'],\n",
       "  ['NKTD', 'NKTM', 'NKTR'],\n",
       "  ['ALPS']),\n",
       " (['bk'], ['DGK'], ['NKTD', 'NKTM', 'NKTR'], ['ALPS']),\n",
       " (['GZ1', 'GZ2', 'GZ3', 'GZ4', 'GZ5', 'GZ7'],\n",
       "  ['DGK'],\n",
       "  ['NKTD', 'NKTM', 'NKTR'],\n",
       "  ['ALPS']),\n",
       " (['bk'],\n",
       "  ['GZ1', 'GZ2', 'GZ3', 'GZ4', 'GZ5', 'GZ7'],\n",
       "  ['DGK'],\n",
       "  ['NKTD', 'NKTM', 'NKTR'],\n",
       "  ['ALPS'])]"
      ]
     },
     "execution_count": 92,
     "metadata": {},
     "output_type": "execute_result"
    }
   ],
   "source": [
    "features_list"
   ]
  },
  {
   "cell_type": "code",
   "execution_count": 93,
   "metadata": {},
   "outputs": [
    {
     "name": "stdout",
     "output_type": "stream",
     "text": [
      "(['bk'], ['GZ1', 'GZ2', 'GZ3', 'GZ4', 'GZ5', 'GZ7'], ['DGK'], ['ALPS'])\n",
      "(['GZ1', 'GZ2', 'GZ3', 'GZ4', 'GZ5', 'GZ7'], ['NKTD', 'NKTM', 'NKTR'], ['ALPS'])\n",
      "(['DGK'], ['NKTD', 'NKTM', 'NKTR'], ['ALPS'])\n",
      "(['bk'], ['ALPS'])\n",
      "(['bk'],)\n",
      "(['GZ1', 'GZ2', 'GZ3', 'GZ4', 'GZ5', 'GZ7'], ['DGK'])\n",
      "(['bk'], ['NKTD', 'NKTM', 'NKTR'], ['ALPS'])\n",
      "(['GZ1', 'GZ2', 'GZ3', 'GZ4', 'GZ5', 'GZ7'], ['NKTD', 'NKTM', 'NKTR'])\n",
      "(['ALPS'],)\n",
      "(['DGK'],)\n"
     ]
    }
   ],
   "source": [
    "for i in idx[:10]:\n",
    "    print(features_list[i])"
   ]
  },
  {
   "cell_type": "code",
   "execution_count": 98,
   "metadata": {},
   "outputs": [
    {
     "data": {
      "text/plain": [
       "[0.3440744483967081,\n",
       " 0.3080499775671965,\n",
       " 0.3074725200847087,\n",
       " 0.29681378730559066,\n",
       " 0.2956578164710972,\n",
       " 0.28206008365434737,\n",
       " 0.27403966410577096,\n",
       " 0.24938738360288457,\n",
       " 0.19888049635824118,\n",
       " 0.18498664022720016,\n",
       " 0.16316989071357604,\n",
       " 0.1475071556946016,\n",
       " 0.1031802650846694,\n",
       " 0.1012718271026652,\n",
       " 0.09876890608512136,\n",
       " 0.09145910269505775,\n",
       " 0.06802113567016448,\n",
       " 0.0628519124622084,\n",
       " 0.037019075331393474,\n",
       " 0.03275920297196893,\n",
       " 0.01976748896180176,\n",
       " 0.0083500334001336,\n",
       " 0.0018956529231829735,\n",
       " 0.00016655562958027982,\n",
       " 0.0,\n",
       " 0.0,\n",
       " 0.0,\n",
       " 0.0,\n",
       " 0.0,\n",
       " 0.0,\n",
       " 0.0]"
      ]
     },
     "execution_count": 98,
     "metadata": {},
     "output_type": "execute_result"
    }
   ],
   "source": [
    "sorted(scores)[::-1]"
   ]
  },
  {
   "cell_type": "code",
   "execution_count": null,
   "metadata": {},
   "outputs": [],
   "source": []
  },
  {
   "cell_type": "code",
   "execution_count": null,
   "metadata": {},
   "outputs": [],
   "source": []
  },
  {
   "cell_type": "code",
   "execution_count": null,
   "metadata": {},
   "outputs": [],
   "source": []
  }
 ],
 "metadata": {
  "kernelspec": {
   "display_name": "Python 3",
   "language": "python",
   "name": "python3"
  },
  "language_info": {
   "codemirror_mode": {
    "name": "ipython",
    "version": 3
   },
   "file_extension": ".py",
   "mimetype": "text/x-python",
   "name": "python",
   "nbconvert_exporter": "python",
   "pygments_lexer": "ipython3",
   "version": "3.5.6"
  }
 },
 "nbformat": 4,
 "nbformat_minor": 2
}
