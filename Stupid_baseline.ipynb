{
 "cells": [
  {
   "cell_type": "code",
   "execution_count": 20,
   "metadata": {},
   "outputs": [],
   "source": [
    "import pandas as pd\n",
    "import sys\n",
    "#sys.path.append('~/data/HungaBunga/hunga_bunga')\n",
    "from hunga_bunga import HungaBungaClassifier, HungaBungaRegressor"
   ]
  },
  {
   "cell_type": "code",
   "execution_count": 21,
   "metadata": {},
   "outputs": [],
   "source": [
    "#!pip uninstall hunga-bunga --yes"
   ]
  },
  {
   "cell_type": "code",
   "execution_count": 22,
   "metadata": {
    "scrolled": false
   },
   "outputs": [],
   "source": [
    "train  = pd.read_excel('train.xlsx', nrows=1000)\n",
    "test = pd.read_excel('test.xlsx', nrows=1000)\n",
    "result = pd.read_excel('result.xlsx', nrows=1000)"
   ]
  },
  {
   "cell_type": "code",
   "execution_count": 32,
   "metadata": {},
   "outputs": [
    {
     "data": {
      "text/plain": [
       "(1000, 15)"
      ]
     },
     "execution_count": 32,
     "metadata": {},
     "output_type": "execute_result"
    }
   ],
   "source": [
    "test.shape"
   ]
  },
  {
   "cell_type": "code",
   "execution_count": 23,
   "metadata": {},
   "outputs": [
    {
     "data": {
      "text/html": [
       "<div>\n",
       "<style scoped>\n",
       "    .dataframe tbody tr th:only-of-type {\n",
       "        vertical-align: middle;\n",
       "    }\n",
       "\n",
       "    .dataframe tbody tr th {\n",
       "        vertical-align: top;\n",
       "    }\n",
       "\n",
       "    .dataframe thead th {\n",
       "        text-align: right;\n",
       "    }\n",
       "</style>\n",
       "<table border=\"1\" class=\"dataframe\">\n",
       "  <thead>\n",
       "    <tr style=\"text-align: right;\">\n",
       "      <th></th>\n",
       "      <th>well id</th>\n",
       "      <th>depth, m</th>\n",
       "      <th>bk</th>\n",
       "      <th>GZ1</th>\n",
       "      <th>GZ2</th>\n",
       "      <th>GZ3</th>\n",
       "      <th>GZ4</th>\n",
       "      <th>GZ5</th>\n",
       "      <th>GZ7</th>\n",
       "      <th>DGK</th>\n",
       "      <th>NKTD</th>\n",
       "      <th>NKTM</th>\n",
       "      <th>NKTR</th>\n",
       "      <th>ALPS</th>\n",
       "      <th>lith</th>\n",
       "      <th>goal</th>\n",
       "    </tr>\n",
       "  </thead>\n",
       "  <tbody>\n",
       "    <tr>\n",
       "      <th>0</th>\n",
       "      <td>12</td>\n",
       "      <td>3042.4630</td>\n",
       "      <td>0.455779</td>\n",
       "      <td>0.774000</td>\n",
       "      <td>0.774000</td>\n",
       "      <td>0.332846</td>\n",
       "      <td>0.476545</td>\n",
       "      <td>0.774000</td>\n",
       "      <td>0.244898</td>\n",
       "      <td>0.123651</td>\n",
       "      <td>0.774000</td>\n",
       "      <td>0.799167</td>\n",
       "      <td>0.174639</td>\n",
       "      <td>0.727789</td>\n",
       "      <td>NK</td>\n",
       "      <td>0</td>\n",
       "    </tr>\n",
       "    <tr>\n",
       "      <th>1</th>\n",
       "      <td>33</td>\n",
       "      <td>2412.8305</td>\n",
       "      <td>NaN</td>\n",
       "      <td>0.157153</td>\n",
       "      <td>0.755472</td>\n",
       "      <td>0.453216</td>\n",
       "      <td>0.715147</td>\n",
       "      <td>NaN</td>\n",
       "      <td>0.523432</td>\n",
       "      <td>0.388729</td>\n",
       "      <td>0.519233</td>\n",
       "      <td>0.799167</td>\n",
       "      <td>0.563573</td>\n",
       "      <td>0.111216</td>\n",
       "      <td>ARGILLIT</td>\n",
       "      <td>0</td>\n",
       "    </tr>\n",
       "    <tr>\n",
       "      <th>2</th>\n",
       "      <td>33</td>\n",
       "      <td>2522.5575</td>\n",
       "      <td>NaN</td>\n",
       "      <td>0.172235</td>\n",
       "      <td>0.941742</td>\n",
       "      <td>0.525711</td>\n",
       "      <td>0.668600</td>\n",
       "      <td>NaN</td>\n",
       "      <td>0.588924</td>\n",
       "      <td>0.515214</td>\n",
       "      <td>0.527139</td>\n",
       "      <td>0.799167</td>\n",
       "      <td>0.551152</td>\n",
       "      <td>0.172359</td>\n",
       "      <td>ARGILLIT</td>\n",
       "      <td>0</td>\n",
       "    </tr>\n",
       "    <tr>\n",
       "      <th>3</th>\n",
       "      <td>49</td>\n",
       "      <td>2396.3625</td>\n",
       "      <td>0.381248</td>\n",
       "      <td>0.246838</td>\n",
       "      <td>0.116913</td>\n",
       "      <td>0.732654</td>\n",
       "      <td>0.151299</td>\n",
       "      <td>0.165219</td>\n",
       "      <td>0.656955</td>\n",
       "      <td>0.445917</td>\n",
       "      <td>0.575175</td>\n",
       "      <td>0.799167</td>\n",
       "      <td>0.429433</td>\n",
       "      <td>0.253563</td>\n",
       "      <td>ARGILLIT</td>\n",
       "      <td>0</td>\n",
       "    </tr>\n",
       "    <tr>\n",
       "      <th>4</th>\n",
       "      <td>49</td>\n",
       "      <td>2399.0475</td>\n",
       "      <td>0.356867</td>\n",
       "      <td>0.226241</td>\n",
       "      <td>0.155473</td>\n",
       "      <td>0.613300</td>\n",
       "      <td>0.173949</td>\n",
       "      <td>0.297194</td>\n",
       "      <td>0.773218</td>\n",
       "      <td>0.392743</td>\n",
       "      <td>0.575725</td>\n",
       "      <td>0.799167</td>\n",
       "      <td>0.447169</td>\n",
       "      <td>0.959633</td>\n",
       "      <td>ARGILLIT</td>\n",
       "      <td>0</td>\n",
       "    </tr>\n",
       "  </tbody>\n",
       "</table>\n",
       "</div>"
      ],
      "text/plain": [
       "   well id   depth, m        bk       GZ1       GZ2       GZ3       GZ4  \\\n",
       "0       12  3042.4630  0.455779  0.774000  0.774000  0.332846  0.476545   \n",
       "1       33  2412.8305       NaN  0.157153  0.755472  0.453216  0.715147   \n",
       "2       33  2522.5575       NaN  0.172235  0.941742  0.525711  0.668600   \n",
       "3       49  2396.3625  0.381248  0.246838  0.116913  0.732654  0.151299   \n",
       "4       49  2399.0475  0.356867  0.226241  0.155473  0.613300  0.173949   \n",
       "\n",
       "        GZ5       GZ7       DGK      NKTD      NKTM      NKTR      ALPS  \\\n",
       "0  0.774000  0.244898  0.123651  0.774000  0.799167  0.174639  0.727789   \n",
       "1       NaN  0.523432  0.388729  0.519233  0.799167  0.563573  0.111216   \n",
       "2       NaN  0.588924  0.515214  0.527139  0.799167  0.551152  0.172359   \n",
       "3  0.165219  0.656955  0.445917  0.575175  0.799167  0.429433  0.253563   \n",
       "4  0.297194  0.773218  0.392743  0.575725  0.799167  0.447169  0.959633   \n",
       "\n",
       "       lith  goal  \n",
       "0        NK     0  \n",
       "1  ARGILLIT     0  \n",
       "2  ARGILLIT     0  \n",
       "3  ARGILLIT     0  \n",
       "4  ARGILLIT     0  "
      ]
     },
     "execution_count": 23,
     "metadata": {},
     "output_type": "execute_result"
    }
   ],
   "source": [
    "train[:5]"
   ]
  },
  {
   "cell_type": "code",
   "execution_count": 24,
   "metadata": {},
   "outputs": [
    {
     "data": {
      "text/plain": [
       "(1000, 16)"
      ]
     },
     "execution_count": 24,
     "metadata": {},
     "output_type": "execute_result"
    }
   ],
   "source": [
    "train.shape"
   ]
  },
  {
   "cell_type": "code",
   "execution_count": 25,
   "metadata": {},
   "outputs": [],
   "source": [
    "train.fillna(0, inplace=True)"
   ]
  },
  {
   "cell_type": "code",
   "execution_count": 26,
   "metadata": {},
   "outputs": [
    {
     "data": {
      "text/html": [
       "<div>\n",
       "<style scoped>\n",
       "    .dataframe tbody tr th:only-of-type {\n",
       "        vertical-align: middle;\n",
       "    }\n",
       "\n",
       "    .dataframe tbody tr th {\n",
       "        vertical-align: top;\n",
       "    }\n",
       "\n",
       "    .dataframe thead th {\n",
       "        text-align: right;\n",
       "    }\n",
       "</style>\n",
       "<table border=\"1\" class=\"dataframe\">\n",
       "  <thead>\n",
       "    <tr style=\"text-align: right;\">\n",
       "      <th></th>\n",
       "      <th>well id</th>\n",
       "      <th>depth, m</th>\n",
       "      <th>bk</th>\n",
       "      <th>GZ1</th>\n",
       "      <th>GZ2</th>\n",
       "      <th>GZ3</th>\n",
       "      <th>GZ4</th>\n",
       "      <th>GZ5</th>\n",
       "      <th>GZ7</th>\n",
       "      <th>DGK</th>\n",
       "      <th>NKTD</th>\n",
       "      <th>NKTM</th>\n",
       "      <th>NKTR</th>\n",
       "      <th>ALPS</th>\n",
       "      <th>goal</th>\n",
       "    </tr>\n",
       "  </thead>\n",
       "  <tbody>\n",
       "    <tr>\n",
       "      <th>count</th>\n",
       "      <td>1000.000000</td>\n",
       "      <td>1000.000000</td>\n",
       "      <td>1000.000000</td>\n",
       "      <td>1000.000000</td>\n",
       "      <td>1000.000000</td>\n",
       "      <td>1000.000000</td>\n",
       "      <td>1000.000000</td>\n",
       "      <td>1000.000000</td>\n",
       "      <td>1000.000000</td>\n",
       "      <td>1000.000000</td>\n",
       "      <td>1000.000000</td>\n",
       "      <td>1000.000000</td>\n",
       "      <td>1000.000000</td>\n",
       "      <td>1000.000000</td>\n",
       "      <td>1000.00000</td>\n",
       "    </tr>\n",
       "    <tr>\n",
       "      <th>mean</th>\n",
       "      <td>100.010000</td>\n",
       "      <td>2477.806426</td>\n",
       "      <td>0.159304</td>\n",
       "      <td>0.312253</td>\n",
       "      <td>0.318892</td>\n",
       "      <td>0.540899</td>\n",
       "      <td>0.351975</td>\n",
       "      <td>0.122360</td>\n",
       "      <td>0.510581</td>\n",
       "      <td>0.333685</td>\n",
       "      <td>0.580232</td>\n",
       "      <td>0.778702</td>\n",
       "      <td>0.429379</td>\n",
       "      <td>0.422344</td>\n",
       "      <td>0.10100</td>\n",
       "    </tr>\n",
       "    <tr>\n",
       "      <th>std</th>\n",
       "      <td>93.754668</td>\n",
       "      <td>181.178263</td>\n",
       "      <td>0.238638</td>\n",
       "      <td>0.202689</td>\n",
       "      <td>0.292074</td>\n",
       "      <td>0.272728</td>\n",
       "      <td>0.339846</td>\n",
       "      <td>0.202361</td>\n",
       "      <td>0.333754</td>\n",
       "      <td>0.187833</td>\n",
       "      <td>0.190819</td>\n",
       "      <td>0.007256</td>\n",
       "      <td>0.153655</td>\n",
       "      <td>0.232676</td>\n",
       "      <td>0.30148</td>\n",
       "    </tr>\n",
       "    <tr>\n",
       "      <th>min</th>\n",
       "      <td>5.000000</td>\n",
       "      <td>2029.502000</td>\n",
       "      <td>0.000000</td>\n",
       "      <td>0.000000</td>\n",
       "      <td>0.000000</td>\n",
       "      <td>0.000000</td>\n",
       "      <td>0.000000</td>\n",
       "      <td>0.000000</td>\n",
       "      <td>0.000000</td>\n",
       "      <td>0.000000</td>\n",
       "      <td>0.000000</td>\n",
       "      <td>0.774000</td>\n",
       "      <td>0.000000</td>\n",
       "      <td>0.111216</td>\n",
       "      <td>0.00000</td>\n",
       "    </tr>\n",
       "    <tr>\n",
       "      <th>25%</th>\n",
       "      <td>33.000000</td>\n",
       "      <td>2423.637625</td>\n",
       "      <td>0.000000</td>\n",
       "      <td>0.214160</td>\n",
       "      <td>0.126115</td>\n",
       "      <td>0.367032</td>\n",
       "      <td>0.118675</td>\n",
       "      <td>0.000000</td>\n",
       "      <td>0.148191</td>\n",
       "      <td>0.215746</td>\n",
       "      <td>0.539068</td>\n",
       "      <td>0.774000</td>\n",
       "      <td>0.397290</td>\n",
       "      <td>0.228950</td>\n",
       "      <td>0.00000</td>\n",
       "    </tr>\n",
       "    <tr>\n",
       "      <th>50%</th>\n",
       "      <td>33.000000</td>\n",
       "      <td>2462.368750</td>\n",
       "      <td>0.000000</td>\n",
       "      <td>0.258025</td>\n",
       "      <td>0.166489</td>\n",
       "      <td>0.622145</td>\n",
       "      <td>0.157671</td>\n",
       "      <td>0.000000</td>\n",
       "      <td>0.635592</td>\n",
       "      <td>0.381595</td>\n",
       "      <td>0.624571</td>\n",
       "      <td>0.774178</td>\n",
       "      <td>0.482739</td>\n",
       "      <td>0.375931</td>\n",
       "      <td>0.00000</td>\n",
       "    </tr>\n",
       "    <tr>\n",
       "      <th>75%</th>\n",
       "      <td>223.000000</td>\n",
       "      <td>2534.214875</td>\n",
       "      <td>0.358718</td>\n",
       "      <td>0.381772</td>\n",
       "      <td>0.531466</td>\n",
       "      <td>0.748878</td>\n",
       "      <td>0.702983</td>\n",
       "      <td>0.235271</td>\n",
       "      <td>0.787047</td>\n",
       "      <td>0.465882</td>\n",
       "      <td>0.690281</td>\n",
       "      <td>0.779576</td>\n",
       "      <td>0.533701</td>\n",
       "      <td>0.583737</td>\n",
       "      <td>0.00000</td>\n",
       "    </tr>\n",
       "    <tr>\n",
       "      <th>max</th>\n",
       "      <td>278.000000</td>\n",
       "      <td>3042.463000</td>\n",
       "      <td>0.993867</td>\n",
       "      <td>0.787864</td>\n",
       "      <td>0.999756</td>\n",
       "      <td>0.992742</td>\n",
       "      <td>0.999445</td>\n",
       "      <td>0.774000</td>\n",
       "      <td>0.998125</td>\n",
       "      <td>0.996938</td>\n",
       "      <td>0.797744</td>\n",
       "      <td>0.799167</td>\n",
       "      <td>0.995343</td>\n",
       "      <td>0.999730</td>\n",
       "      <td>1.00000</td>\n",
       "    </tr>\n",
       "  </tbody>\n",
       "</table>\n",
       "</div>"
      ],
      "text/plain": [
       "           well id     depth, m           bk          GZ1          GZ2  \\\n",
       "count  1000.000000  1000.000000  1000.000000  1000.000000  1000.000000   \n",
       "mean    100.010000  2477.806426     0.159304     0.312253     0.318892   \n",
       "std      93.754668   181.178263     0.238638     0.202689     0.292074   \n",
       "min       5.000000  2029.502000     0.000000     0.000000     0.000000   \n",
       "25%      33.000000  2423.637625     0.000000     0.214160     0.126115   \n",
       "50%      33.000000  2462.368750     0.000000     0.258025     0.166489   \n",
       "75%     223.000000  2534.214875     0.358718     0.381772     0.531466   \n",
       "max     278.000000  3042.463000     0.993867     0.787864     0.999756   \n",
       "\n",
       "               GZ3          GZ4          GZ5          GZ7          DGK  \\\n",
       "count  1000.000000  1000.000000  1000.000000  1000.000000  1000.000000   \n",
       "mean      0.540899     0.351975     0.122360     0.510581     0.333685   \n",
       "std       0.272728     0.339846     0.202361     0.333754     0.187833   \n",
       "min       0.000000     0.000000     0.000000     0.000000     0.000000   \n",
       "25%       0.367032     0.118675     0.000000     0.148191     0.215746   \n",
       "50%       0.622145     0.157671     0.000000     0.635592     0.381595   \n",
       "75%       0.748878     0.702983     0.235271     0.787047     0.465882   \n",
       "max       0.992742     0.999445     0.774000     0.998125     0.996938   \n",
       "\n",
       "              NKTD         NKTM         NKTR         ALPS        goal  \n",
       "count  1000.000000  1000.000000  1000.000000  1000.000000  1000.00000  \n",
       "mean      0.580232     0.778702     0.429379     0.422344     0.10100  \n",
       "std       0.190819     0.007256     0.153655     0.232676     0.30148  \n",
       "min       0.000000     0.774000     0.000000     0.111216     0.00000  \n",
       "25%       0.539068     0.774000     0.397290     0.228950     0.00000  \n",
       "50%       0.624571     0.774178     0.482739     0.375931     0.00000  \n",
       "75%       0.690281     0.779576     0.533701     0.583737     0.00000  \n",
       "max       0.797744     0.799167     0.995343     0.999730     1.00000  "
      ]
     },
     "execution_count": 26,
     "metadata": {},
     "output_type": "execute_result"
    }
   ],
   "source": [
    "train.describe()"
   ]
  },
  {
   "cell_type": "code",
   "execution_count": 27,
   "metadata": {},
   "outputs": [],
   "source": [
    "from sklearn import preprocessing"
   ]
  },
  {
   "cell_type": "code",
   "execution_count": 9,
   "metadata": {},
   "outputs": [],
   "source": [
    "dense_train = train[train.columns[1:-3]]"
   ]
  },
  {
   "cell_type": "code",
   "execution_count": 10,
   "metadata": {},
   "outputs": [],
   "source": [
    "min_max_scaler = preprocessing.MinMaxScaler()\n",
    "dense_train_scaled = min_max_scaler.fit_transform(dense_train)"
   ]
  },
  {
   "cell_type": "code",
   "execution_count": 11,
   "metadata": {},
   "outputs": [
    {
     "data": {
      "text/plain": [
       "array([[1.        , 0.45859129, 0.98240264, 0.77418891, 0.33527958,\n",
       "        0.4768093 , 1.        , 0.24535765, 0.124031  , 0.97023662,\n",
       "        1.        , 0.17545667],\n",
       "       [0.37842375, 0.        , 0.19946656, 0.7556562 , 0.45652934,\n",
       "        0.71554348, 0.        , 0.52441506, 0.38992245, 0.65087739,\n",
       "        1.        , 0.56621057],\n",
       "       [0.48674678, 0.        , 0.21861041, 0.94197218, 0.52955495,\n",
       "        0.66897081, 0.        , 0.59003052, 0.51679582, 0.6607875 ,\n",
       "        1.        , 0.55373125],\n",
       "       [0.36216646, 0.38360112, 0.31330042, 0.11694138, 0.73801099,\n",
       "        0.15138249, 0.21346109, 0.65818922, 0.44728679, 0.72100291,\n",
       "        1.        , 0.43144266],\n",
       "       [0.36481711, 0.35906967, 0.28715774, 0.15551119, 0.61778379,\n",
       "        0.17404519, 0.38397205, 0.77467007, 0.39394884, 0.7216923 ,\n",
       "        1.        , 0.4492611 ]])"
      ]
     },
     "execution_count": 11,
     "metadata": {},
     "output_type": "execute_result"
    }
   ],
   "source": [
    "dense_train_scaled[:5]"
   ]
  },
  {
   "cell_type": "code",
   "execution_count": 12,
   "metadata": {},
   "outputs": [
    {
     "data": {
      "text/plain": [
       "(1000, 12)"
      ]
     },
     "execution_count": 12,
     "metadata": {},
     "output_type": "execute_result"
    }
   ],
   "source": [
    "dense_train_scaled.shape"
   ]
  },
  {
   "cell_type": "code",
   "execution_count": 13,
   "metadata": {},
   "outputs": [],
   "source": [
    "target = train['goal']"
   ]
  },
  {
   "cell_type": "code",
   "execution_count": 14,
   "metadata": {},
   "outputs": [],
   "source": [
    "import random\n",
    "import numpy as np"
   ]
  },
  {
   "cell_type": "code",
   "execution_count": 15,
   "metadata": {},
   "outputs": [],
   "source": [
    "a = np.arange(target.shape[0])"
   ]
  },
  {
   "cell_type": "code",
   "execution_count": 16,
   "metadata": {},
   "outputs": [],
   "source": [
    "random.shuffle(a)"
   ]
  },
  {
   "cell_type": "code",
   "execution_count": 17,
   "metadata": {},
   "outputs": [],
   "source": [
    "NUM_VAL = 1000"
   ]
  },
  {
   "cell_type": "code",
   "execution_count": 18,
   "metadata": {},
   "outputs": [],
   "source": [
    "from sklearn.model_selection import train_test_split"
   ]
  },
  {
   "cell_type": "code",
   "execution_count": 19,
   "metadata": {},
   "outputs": [],
   "source": [
    "X_train, X_test, y_train, y_test = train_test_split(\n",
    "...     dense_train_scaled, target, test_size=0.33, random_state=42)"
   ]
  },
  {
   "cell_type": "code",
   "execution_count": null,
   "metadata": {},
   "outputs": [],
   "source": []
  },
  {
   "cell_type": "code",
   "execution_count": null,
   "metadata": {},
   "outputs": [],
   "source": []
  },
  {
   "cell_type": "code",
   "execution_count": null,
   "metadata": {},
   "outputs": [],
   "source": []
  },
  {
   "cell_type": "code",
   "execution_count": null,
   "metadata": {},
   "outputs": [],
   "source": []
  },
  {
   "cell_type": "code",
   "execution_count": null,
   "metadata": {},
   "outputs": [],
   "source": []
  },
  {
   "cell_type": "code",
   "execution_count": null,
   "metadata": {},
   "outputs": [],
   "source": []
  },
  {
   "cell_type": "code",
   "execution_count": null,
   "metadata": {},
   "outputs": [],
   "source": []
  },
  {
   "cell_type": "code",
   "execution_count": null,
   "metadata": {},
   "outputs": [],
   "source": []
  },
  {
   "cell_type": "code",
   "execution_count": null,
   "metadata": {},
   "outputs": [],
   "source": []
  },
  {
   "cell_type": "code",
   "execution_count": null,
   "metadata": {},
   "outputs": [],
   "source": []
  },
  {
   "cell_type": "code",
   "execution_count": null,
   "metadata": {},
   "outputs": [],
   "source": []
  },
  {
   "cell_type": "code",
   "execution_count": 34,
   "metadata": {},
   "outputs": [],
   "source": [
    "from sklearn import datasets\n",
    "from sklearn.linear_model import SGDClassifier, LogisticRegression, Perceptron, PassiveAggressiveClassifier\n",
    "from sklearn.preprocessing import StandardScaler\n",
    "from sklearn.ensemble import RandomForestClassifier, ExtraTreesClassifier\n",
    "from sklearn.svm import SVC, LinearSVC, NuSVC\n",
    "from sklearn.cluster import KMeans\n",
    "from sklearn.neighbors import KNeighborsClassifier, NearestCentroid, RadiusNeighborsClassifier\n",
    "from sklearn.gaussian_process import GaussianProcessClassifier\n",
    "from sklearn.gaussian_process.kernels import RBF, ConstantKernel, DotProduct, Matern, StationaryKernelMixin, WhiteKernel\n",
    "from sklearn.naive_bayes import GaussianNB\n",
    "from sklearn.neural_network import MLPClassifier\n",
    "from sklearn.tree import DecisionTreeClassifier\n",
    "from sklearn.model_selection import ParameterSampler"
   ]
  },
  {
   "cell_type": "code",
   "execution_count": 37,
   "metadata": {},
   "outputs": [],
   "source": [
    "from sklearn.ensemble import AdaBoostRegressor, ExtraTreesRegressor, RandomForestRegressor\n",
    "from sklearn.tree import DecisionTreeRegressor\n",
    "from sklearn.base import BaseEstimator\n",
    "from sklearn.base import ClassifierMixin\n",
    "from sklearn.base import RegressorMixin\n",
    "from sklearn.base import is_classifier"
   ]
  },
  {
   "cell_type": "code",
   "execution_count": 39,
   "metadata": {},
   "outputs": [
    {
     "data": {
      "text/plain": [
       "LogisticRegression(C=1.0, class_weight=None, dual=False, fit_intercept=True,\n",
       "          intercept_scaling=1, max_iter=100, multi_class='warn',\n",
       "          n_jobs=None, penalty='l2', random_state=None, solver='warn',\n",
       "          tol=0.0001, verbose=0, warm_start=False)"
      ]
     },
     "execution_count": 39,
     "metadata": {},
     "output_type": "execute_result"
    }
   ],
   "source": [
    "log_reg = LogisticRegression()\n",
    "log_reg.fit(X_train, y_train)"
   ]
  },
  {
   "cell_type": "code",
   "execution_count": 46,
   "metadata": {},
   "outputs": [],
   "source": [
    "import random\n",
    "import warnings\n",
    "warnings.filterwarnings('ignore')\n",
    "\n",
    "import numpy as np\n",
    "from sklearn import datasets\n",
    "from sklearn.linear_model import SGDClassifier, LogisticRegression, Perceptron, PassiveAggressiveClassifier\n",
    "from sklearn.preprocessing import StandardScaler\n",
    "from sklearn.ensemble import RandomForestClassifier, ExtraTreesClassifier\n",
    "from sklearn.svm import SVC, LinearSVC, NuSVC\n",
    "from sklearn.cluster import KMeans\n",
    "from sklearn.neighbors import KNeighborsClassifier, NearestCentroid, RadiusNeighborsClassifier\n",
    "from sklearn.gaussian_process import GaussianProcessClassifier\n",
    "from sklearn.gaussian_process.kernels import RBF, ConstantKernel, DotProduct, Matern, StationaryKernelMixin, WhiteKernel\n",
    "from sklearn.naive_bayes import GaussianNB\n",
    "from sklearn.neural_network import MLPClassifier\n",
    "from sklearn.tree import DecisionTreeClassifier\n",
    "from sklearn.model_selection import ParameterSampler\n",
    "\n",
    "from sklearn.ensemble import AdaBoostRegressor, ExtraTreesRegressor, RandomForestRegressor\n",
    "from sklearn.tree import DecisionTreeRegressor\n",
    "from sklearn.base import BaseEstimator\n",
    "from sklearn.base import ClassifierMixin\n",
    "from sklearn.base import RegressorMixin\n",
    "from sklearn.base import is_classifier\n",
    "\n",
    "from hunga_bunga.core import *\n",
    "from hunga_bunga.params import *\n",
    "\n",
    "\n",
    "linear_models_n_params = [\n",
    "    (SGDClassifier,\n",
    "     {'loss': ['hinge', 'log', 'modified_huber', 'squared_hinge'],\n",
    "      'alpha': [0.0001, 0.001, 0.1],\n",
    "      'penalty': penalty_12none\n",
    "      }),\n",
    "\n",
    "    (LogisticRegression,\n",
    "     {'penalty': penalty_12, 'max_iter': max_iter, 'tol': tol,  'warm_start': warm_start, 'C':C, 'solver': ['liblinear']\n",
    "      }),\n",
    "\n",
    "    (Perceptron,\n",
    "     {'penalty': penalty_all, 'alpha': alpha, 'n_iter': n_iter, 'eta0': eta0, 'warm_start': warm_start\n",
    "      }),\n",
    "\n",
    "    (PassiveAggressiveClassifier,\n",
    "     {'C': C, 'n_iter': n_iter, 'warm_start': warm_start,\n",
    "      'loss': ['hinge', 'squared_hinge'],\n",
    "      })\n",
    "]\n",
    "\n",
    "linear_models_n_params_small = linear_models_n_params\n",
    "\n",
    "svm_models_n_params = [\n",
    "]\n",
    "\n",
    "svm_models_n_params_small = [\n",
    "]\n",
    "\n",
    "neighbor_models_n_params = [\n",
    "\n",
    "    (KMeans,\n",
    "     {'algorithm': ['auto', 'full', 'elkan'],\n",
    "      'init': ['k-means++', 'random']}),\n",
    "\n",
    "    (KNeighborsClassifier,\n",
    "     {'n_neighbors': n_neighbors, 'algo': neighbor_algo, 'leaf_size': neighbor_leaf_size, 'metric': neighbor_metric,\n",
    "      'weights': ['uniform', 'distance'],\n",
    "      'p': [1, 2]\n",
    "      }),\n",
    "]\n",
    "\n",
    "gaussianprocess_models_n_params = [\n",
    "    (GaussianProcessClassifier,\n",
    "     {'warm_start': warm_start,\n",
    "      'kernel': [RBF(), ConstantKernel(), DotProduct(), WhiteKernel()],\n",
    "      'max_iter_predict': [500],\n",
    "      'n_restarts_optimizer': [3],\n",
    "      })\n",
    "]\n",
    "\n",
    "bayes_models_n_params = [\n",
    "    (GaussianNB, {})\n",
    "]\n",
    "\n",
    "nn_models_n_params = [\n",
    "    (MLPClassifier,\n",
    "     { 'hidden_layer_sizes': [(16,), (64,), (100,), (32, 32)],\n",
    "       'activation': ['identity', 'logistic', 'tanh', 'relu'],\n",
    "       'alpha': alpha, 'learning_rate': learning_rate, 'tol': tol, 'warm_start': warm_start,\n",
    "       'batch_size': ['auto', 50],\n",
    "       'max_iter': [1000],\n",
    "       'early_stopping': [True, False],\n",
    "       'epsilon': [1e-8, 1e-5]\n",
    "       })\n",
    "]\n",
    "\n",
    "nn_models_n_params_small = [\n",
    "    (MLPClassifier,\n",
    "     { 'hidden_layer_sizes': [(64,), (32, 64)],\n",
    "       'batch_size': ['auto', 50],\n",
    "       'activation': ['identity', 'tanh', 'relu'],\n",
    "       'max_iter': [500],\n",
    "       'early_stopping': [True],\n",
    "       'learning_rate': learning_rate_small\n",
    "       })\n",
    "]\n",
    "\n",
    "tree_models_n_params = [\n",
    "\n",
    "    (RandomForestClassifier,\n",
    "     {'criterion': ['gini', 'entropy'],\n",
    "      'max_features': max_features, 'n_estimators': n_estimators, 'max_depth': max_depth,\n",
    "      'min_samples_split': min_samples_split, 'min_impurity_split': min_impurity_split, 'warm_start': warm_start, 'min_samples_leaf': min_samples_leaf,\n",
    "      }),\n",
    "\n",
    "    (DecisionTreeClassifier,\n",
    "     {'criterion': ['gini', 'entropy'],\n",
    "      'max_features': max_features, 'max_depth': max_depth, 'min_samples_split': min_samples_split, 'min_impurity_split':min_impurity_split, 'min_samples_leaf': min_samples_leaf\n",
    "      }),\n",
    "]\n",
    "\n",
    "tree_models_n_params_small = [\n",
    "\n",
    "    (RandomForestClassifier,\n",
    "     {'max_features_small': max_features_small, 'n_estimators_small': n_estimators_small, 'min_samples_split': min_samples_split, 'max_depth_small': max_depth_small, 'min_samples_leaf': min_samples_leaf\n",
    "      }),\n",
    "\n",
    "    (DecisionTreeClassifier,\n",
    "     {'max_features_small': max_features_small, 'max_depth_small': max_depth_small, 'min_samples_split': min_samples_split, 'min_samples_leaf': min_samples_leaf})\n",
    "]\n",
    "\n",
    "\n",
    "def run_all_classifiers(x, y, small = True, normalize_x = True, n_jobs=cpu_count()-1, brain=False, test_size=0.2, n_splits=5, upsample=True, scoring=None, verbose=False, grid_search=True):\n",
    "    all_params = (linear_models_n_params_small if small else linear_models_n_params) +  (nn_models_n_params_small if small else nn_models_n_params) + ([] if small else gaussianprocess_models_n_params) + neighbor_models_n_params + (svm_models_n_params_small if small else svm_models_n_params) + (tree_models_n_params_small if small else tree_models_n_params)\n",
    "    return main_loop(all_params, StandardScaler().fit_transform(x) if normalize_x else x, y, isClassification=True, n_jobs=n_jobs, verbose=verbose, brain=brain, test_size=test_size, n_splits=n_splits, upsample=upsample, scoring=scoring, grid_search=grid_search)\n",
    "\n",
    "def run_one_classifier(x, y, small = True, normalize_x = True, n_jobs=cpu_count()-1, brain=False, test_size=0.2, n_splits=5, upsample=True, scoring=None, verbose=False, grid_search=True):\n",
    "    all_params = (linear_models_n_params_small if small else linear_models_n_params) +  (nn_models_n_params_small if small else nn_models_n_params) + ([] if small else gaussianprocess_models_n_params) + neighbor_models_n_params + (svm_models_n_params_small if small else svm_models_n_params) + (tree_models_n_params_small if small else tree_models_n_params)\n",
    "    all_params = random.choice(all_params)\n",
    "    return all_params[0](**(list(ParameterSampler(all_params[1], n_iter=1))[0]))\n",
    "\n",
    "\n",
    "class HungaBungaClassifier(ClassifierMixin):\n",
    "    def __init__(self, brain=False, test_size = 0.2, n_splits = 5, random_state=None, upsample=True, scoring=None, verbose=False, normalize_x = True, n_jobs =cpu_count() - 1, grid_search=True):\n",
    "        self.model = None\n",
    "        self.brain = brain\n",
    "        self.test_size = test_size\n",
    "        self.n_splits = n_splits\n",
    "        self.random_state = random_state\n",
    "        self.upsample = upsample\n",
    "        self.scoring = None\n",
    "        self.verbose = verbose\n",
    "        self.n_jobs = n_jobs\n",
    "        self.normalize_x = normalize_x\n",
    "        self.grid_search = grid_search\n",
    "        super(HungaBungaClassifier, self).__init__()\n",
    "\n",
    "    def fit(self, x, y):\n",
    "        self.model = run_all_classifiers(x, y, normalize_x=self.normalize_x, test_size=self.test_size, n_splits=self.n_splits, upsample=self.upsample, scoring=self.scoring, verbose=self.verbose, brain=self.brain, n_jobs=self.n_jobs, grid_search=self.grid_search)[0]\n",
    "        return self\n",
    "\n",
    "    def predict(self, x):\n",
    "        return self.model.predict(x)\n",
    "\n",
    "\n",
    "class HungaBungaRandomClassifier(ClassifierMixin):\n",
    "    def __init__(self, brain=False, test_size = 0.2, n_splits = 5, random_state=None, upsample=True, scoring=None, verbose=False, normalize_x = True, n_jobs =cpu_count() - 1, grid_search=True):\n",
    "        self.model = None\n",
    "        self.brain = brain\n",
    "        self.test_size = test_size\n",
    "        self.n_splits = n_splits\n",
    "        self.random_state = random_state\n",
    "        self.upsample = upsample\n",
    "        self.scoring = None\n",
    "        self.verbose = verbose\n",
    "        self.n_jobs = n_jobs\n",
    "        self.normalize_x = normalize_x\n",
    "        self.grid_search = grid_search\n",
    "        super(HungaBungaRandomClassifier, self).__init__()\n",
    "\n",
    "    def fit(self, x, y):\n",
    "        self.model = run_one_classifier(x, y, normalize_x=self.normalize_x, test_size=self.test_size, n_splits=self.n_splits, upsample=self.upsample, scoring=self.scoring, verbose=self.verbose, brain=self.brain, n_jobs=self.n_jobs, grid_search=self.grid_search)\n",
    "        self.model.fit(x, y)\n",
    "        return self\n",
    "\n",
    "    def predict(self, x):\n",
    "        return self.model.predict(x)"
   ]
  },
  {
   "cell_type": "code",
   "execution_count": 47,
   "metadata": {},
   "outputs": [
    {
     "name": "stderr",
     "output_type": "stream",
     "text": [
      "\n",
      "\n",
      "\n",
      "\n",
      "  0%|          | 0/9 [00:00<?, ?it/s]\u001b[A\u001b[A\u001b[A\u001b[A"
     ]
    },
    {
     "name": "stdout",
     "output_type": "stream",
     "text": [
      "Scoring criteria: accuracy\n",
      "--------------- model 1/9 ---------------\n",
      "SGDClassifier\n"
     ]
    },
    {
     "name": "stderr",
     "output_type": "stream",
     "text": [
      "\n",
      "\n",
      "\n",
      "\n",
      " 11%|█         | 1/9 [00:05<00:42,  5.26s/it]\u001b[A\u001b[A\u001b[A\u001b[A"
     ]
    },
    {
     "name": "stdout",
     "output_type": "stream",
     "text": [
      "best score: 0.779 time/clf: 0.001 seconds\n",
      "best params:\n",
      "{'alpha': 0.1, 'loss': 'squared_hinge', 'penalty': 'l2'}\n",
      "--------------- model 2/9 ---------------\n",
      "LogisticRegression\n"
     ]
    },
    {
     "name": "stderr",
     "output_type": "stream",
     "text": [
      "\n",
      "\n",
      "\n",
      "\n",
      " 22%|██▏       | 2/9 [00:11<00:39,  5.57s/it]\u001b[A\u001b[A\u001b[A\u001b[A"
     ]
    },
    {
     "name": "stdout",
     "output_type": "stream",
     "text": [
      "best score: 0.716 time/clf: 0.004 seconds\n",
      "best params:\n",
      "{'C': 5,\n",
      " 'max_iter': 100,\n",
      " 'penalty': 'l1',\n",
      " 'solver': 'liblinear',\n",
      " 'tol': 0.0001,\n",
      " 'warm_start': True}\n",
      "--------------- model 3/9 ---------------\n",
      "Perceptron\n"
     ]
    },
    {
     "name": "stderr",
     "output_type": "stream",
     "text": [
      "\n",
      "\n",
      "\n",
      "\n",
      " 33%|███▎      | 3/9 [01:25<02:36, 26.16s/it]\u001b[A\u001b[A\u001b[A\u001b[A"
     ]
    },
    {
     "name": "stdout",
     "output_type": "stream",
     "text": [
      "best score: 0.9 time/clf: 0.003 seconds\n",
      "best params:\n",
      "{'alpha': 1, 'eta0': 0.0001, 'n_iter': 20, 'penalty': 'l1', 'warm_start': True}\n",
      "--------------- model 4/9 ---------------\n",
      "PassiveAggressiveClassifier\n"
     ]
    },
    {
     "name": "stderr",
     "output_type": "stream",
     "text": [
      "\n",
      "\n",
      "\n",
      "\n",
      " 44%|████▍     | 4/9 [01:28<01:35, 19.12s/it]\u001b[A\u001b[A\u001b[A\u001b[A"
     ]
    },
    {
     "name": "stdout",
     "output_type": "stream",
     "text": [
      "best score: 0.732 time/clf: 0.001 seconds\n",
      "best params:\n",
      "{'C': 0.01, 'loss': 'squared_hinge', 'n_iter': 5, 'warm_start': True}\n",
      "--------------- model 5/9 ---------------\n",
      "MLPClassifier\n"
     ]
    },
    {
     "name": "stderr",
     "output_type": "stream",
     "text": [
      "\n",
      "\n",
      "\n",
      "\n",
      " 56%|█████▌    | 5/9 [02:33<02:11, 32.93s/it]\u001b[A\u001b[A\u001b[A\u001b[A"
     ]
    },
    {
     "name": "stdout",
     "output_type": "stream",
     "text": [
      "best score: 0.861 time/clf: 0.290 seconds\n",
      "best params:\n",
      "{'activation': 'relu',\n",
      " 'batch_size': 50,\n",
      " 'early_stopping': True,\n",
      " 'hidden_layer_sizes': (32, 64),\n",
      " 'learning_rate': 'adaptive',\n",
      " 'max_iter': 500}\n",
      "--------------- model 6/9 ---------------\n",
      "KMeans\n"
     ]
    },
    {
     "name": "stderr",
     "output_type": "stream",
     "text": [
      "\n",
      "\n",
      "\n",
      "\n",
      " 67%|██████▋   | 6/9 [02:34<01:10, 23.37s/it]\u001b[A\u001b[A\u001b[A\u001b[A"
     ]
    },
    {
     "name": "stdout",
     "output_type": "stream",
     "text": [
      "best score: 0.587 time/clf: 0.041 seconds\n",
      "best params:\n",
      "{'algorithm': 'auto', 'init': 'random', 'n_clusters': 2}\n",
      "--------------- model 7/9 ---------------\n",
      "KNeighborsClassifier\n"
     ]
    },
    {
     "name": "stderr",
     "output_type": "stream",
     "text": [
      "\n",
      "\n",
      "\n",
      "\n",
      " 78%|███████▊  | 7/9 [02:35<00:33, 16.53s/it]\u001b[A\u001b[A\u001b[A\u001b[A\n",
      "\n",
      "\n",
      "\n",
      "100%|██████████| 9/9 [02:35<00:00, 17.25s/it]\u001b[A\u001b[A\u001b[A\u001b[A"
     ]
    },
    {
     "name": "stdout",
     "output_type": "stream",
     "text": [
      "--------------- model 8/9 ---------------\n",
      "RandomForestClassifier\n",
      "--------------- model 9/9 ---------------\n",
      "DecisionTreeClassifier\n",
      "============================================================\n",
      "Model                          accuracy    Time/clf (s)\n",
      "---------------------------  ----------  --------------\n",
      "SGDClassifier                     0.779           0.001\n",
      "LogisticRegression                0.716           0.004\n",
      "Perceptron                        0.9             0.003\n",
      "PassiveAggressiveClassifier       0.732           0.001\n",
      "MLPClassifier                     0.861           0.29\n",
      "KMeans                            0.587           0.041\n",
      "KNeighborsClassifier           -inf             inf\n",
      "RandomForestClassifier         -inf             inf\n",
      "DecisionTreeClassifier         -inf             inf\n",
      "============================================================\n",
      "The winner is: Perceptron with score 0.900.\n"
     ]
    },
    {
     "data": {
      "text/plain": [
       "<__main__.HungaBungaClassifier at 0x7f1b5a686a58>"
      ]
     },
     "execution_count": 47,
     "metadata": {},
     "output_type": "execute_result"
    }
   ],
   "source": [
    "clf = HungaBungaClassifier(brain=True)\n",
    "clf.fit(dense_train_scaled, target)"
   ]
  },
  {
   "cell_type": "code",
   "execution_count": null,
   "metadata": {},
   "outputs": [],
   "source": []
  },
  {
   "cell_type": "code",
   "execution_count": null,
   "metadata": {},
   "outputs": [],
   "source": []
  },
  {
   "cell_type": "code",
   "execution_count": null,
   "metadata": {},
   "outputs": [],
   "source": []
  },
  {
   "cell_type": "code",
   "execution_count": null,
   "metadata": {},
   "outputs": [],
   "source": []
  },
  {
   "cell_type": "code",
   "execution_count": null,
   "metadata": {},
   "outputs": [],
   "source": []
  },
  {
   "cell_type": "code",
   "execution_count": null,
   "metadata": {},
   "outputs": [],
   "source": []
  }
 ],
 "metadata": {
  "kernelspec": {
   "display_name": "Python 3",
   "language": "python",
   "name": "python3"
  },
  "language_info": {
   "codemirror_mode": {
    "name": "ipython",
    "version": 3
   },
   "file_extension": ".py",
   "mimetype": "text/x-python",
   "name": "python",
   "nbconvert_exporter": "python",
   "pygments_lexer": "ipython3",
   "version": "3.5.6"
  }
 },
 "nbformat": 4,
 "nbformat_minor": 2
}
