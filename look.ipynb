{
 "cells": [
  {
   "cell_type": "code",
   "execution_count": 33,
   "metadata": {},
   "outputs": [],
   "source": [
    "import pandas as pd\n",
    "import matplotlib.pyplot as plt\n",
    "import seaborn as sns"
   ]
  },
  {
   "cell_type": "code",
   "execution_count": 17,
   "metadata": {},
   "outputs": [],
   "source": [
    "train=pd.read_excel('train.xlsx')\n",
    "label=pd.read_excel('result.xlsx')\n",
    "test = pd.read_excel('test.xlsx')"
   ]
  },
  {
   "cell_type": "code",
   "execution_count": 4,
   "metadata": {
    "scrolled": true
   },
   "outputs": [
    {
     "data": {
      "text/plain": [
       "(465096, 16)"
      ]
     },
     "execution_count": 4,
     "metadata": {},
     "output_type": "execute_result"
    }
   ],
   "source": [
    "a.shape"
   ]
  },
  {
   "cell_type": "code",
   "execution_count": 8,
   "metadata": {},
   "outputs": [
    {
     "data": {
      "text/html": [
       "<div>\n",
       "<style scoped>\n",
       "    .dataframe tbody tr th:only-of-type {\n",
       "        vertical-align: middle;\n",
       "    }\n",
       "\n",
       "    .dataframe tbody tr th {\n",
       "        vertical-align: top;\n",
       "    }\n",
       "\n",
       "    .dataframe thead th {\n",
       "        text-align: right;\n",
       "    }\n",
       "</style>\n",
       "<table border=\"1\" class=\"dataframe\">\n",
       "  <thead>\n",
       "    <tr style=\"text-align: right;\">\n",
       "      <th></th>\n",
       "      <th>well id</th>\n",
       "      <th>depth, m</th>\n",
       "      <th>bk</th>\n",
       "      <th>GZ1</th>\n",
       "      <th>GZ2</th>\n",
       "      <th>GZ3</th>\n",
       "      <th>GZ4</th>\n",
       "      <th>GZ5</th>\n",
       "      <th>GZ7</th>\n",
       "      <th>DGK</th>\n",
       "      <th>NKTD</th>\n",
       "      <th>NKTM</th>\n",
       "      <th>NKTR</th>\n",
       "      <th>ALPS</th>\n",
       "      <th>lith</th>\n",
       "      <th>goal</th>\n",
       "    </tr>\n",
       "  </thead>\n",
       "  <tbody>\n",
       "    <tr>\n",
       "      <th>0</th>\n",
       "      <td>12.0</td>\n",
       "      <td>3042.4630</td>\n",
       "      <td>0.455779</td>\n",
       "      <td>0.774000</td>\n",
       "      <td>0.774000</td>\n",
       "      <td>0.332846</td>\n",
       "      <td>0.476545</td>\n",
       "      <td>0.774000</td>\n",
       "      <td>0.244898</td>\n",
       "      <td>0.123651</td>\n",
       "      <td>0.774000</td>\n",
       "      <td>0.799167</td>\n",
       "      <td>0.174639</td>\n",
       "      <td>0.727789</td>\n",
       "      <td>NK</td>\n",
       "      <td>0.0</td>\n",
       "    </tr>\n",
       "    <tr>\n",
       "      <th>1</th>\n",
       "      <td>33.0</td>\n",
       "      <td>2412.8305</td>\n",
       "      <td>NaN</td>\n",
       "      <td>0.157153</td>\n",
       "      <td>0.755472</td>\n",
       "      <td>0.453216</td>\n",
       "      <td>0.715147</td>\n",
       "      <td>NaN</td>\n",
       "      <td>0.523432</td>\n",
       "      <td>0.388729</td>\n",
       "      <td>0.519233</td>\n",
       "      <td>0.799167</td>\n",
       "      <td>0.563573</td>\n",
       "      <td>0.111216</td>\n",
       "      <td>ARGILLIT</td>\n",
       "      <td>0.0</td>\n",
       "    </tr>\n",
       "    <tr>\n",
       "      <th>2</th>\n",
       "      <td>33.0</td>\n",
       "      <td>2522.5575</td>\n",
       "      <td>NaN</td>\n",
       "      <td>0.172235</td>\n",
       "      <td>0.941742</td>\n",
       "      <td>0.525711</td>\n",
       "      <td>0.668600</td>\n",
       "      <td>NaN</td>\n",
       "      <td>0.588924</td>\n",
       "      <td>0.515214</td>\n",
       "      <td>0.527139</td>\n",
       "      <td>0.799167</td>\n",
       "      <td>0.551152</td>\n",
       "      <td>0.172359</td>\n",
       "      <td>ARGILLIT</td>\n",
       "      <td>0.0</td>\n",
       "    </tr>\n",
       "    <tr>\n",
       "      <th>3</th>\n",
       "      <td>49.0</td>\n",
       "      <td>2396.3625</td>\n",
       "      <td>0.381248</td>\n",
       "      <td>0.246838</td>\n",
       "      <td>0.116913</td>\n",
       "      <td>0.732654</td>\n",
       "      <td>0.151299</td>\n",
       "      <td>0.165219</td>\n",
       "      <td>0.656955</td>\n",
       "      <td>0.445917</td>\n",
       "      <td>0.575175</td>\n",
       "      <td>0.799167</td>\n",
       "      <td>0.429433</td>\n",
       "      <td>0.253563</td>\n",
       "      <td>ARGILLIT</td>\n",
       "      <td>0.0</td>\n",
       "    </tr>\n",
       "    <tr>\n",
       "      <th>4</th>\n",
       "      <td>49.0</td>\n",
       "      <td>2399.0475</td>\n",
       "      <td>0.356867</td>\n",
       "      <td>0.226241</td>\n",
       "      <td>0.155473</td>\n",
       "      <td>0.613300</td>\n",
       "      <td>0.173949</td>\n",
       "      <td>0.297194</td>\n",
       "      <td>0.773218</td>\n",
       "      <td>0.392743</td>\n",
       "      <td>0.575725</td>\n",
       "      <td>0.799167</td>\n",
       "      <td>0.447169</td>\n",
       "      <td>0.959633</td>\n",
       "      <td>ARGILLIT</td>\n",
       "      <td>0.0</td>\n",
       "    </tr>\n",
       "  </tbody>\n",
       "</table>\n",
       "</div>"
      ],
      "text/plain": [
       "   well id   depth, m        bk       GZ1       GZ2       GZ3       GZ4  \\\n",
       "0     12.0  3042.4630  0.455779  0.774000  0.774000  0.332846  0.476545   \n",
       "1     33.0  2412.8305       NaN  0.157153  0.755472  0.453216  0.715147   \n",
       "2     33.0  2522.5575       NaN  0.172235  0.941742  0.525711  0.668600   \n",
       "3     49.0  2396.3625  0.381248  0.246838  0.116913  0.732654  0.151299   \n",
       "4     49.0  2399.0475  0.356867  0.226241  0.155473  0.613300  0.173949   \n",
       "\n",
       "        GZ5       GZ7       DGK      NKTD      NKTM      NKTR      ALPS  \\\n",
       "0  0.774000  0.244898  0.123651  0.774000  0.799167  0.174639  0.727789   \n",
       "1       NaN  0.523432  0.388729  0.519233  0.799167  0.563573  0.111216   \n",
       "2       NaN  0.588924  0.515214  0.527139  0.799167  0.551152  0.172359   \n",
       "3  0.165219  0.656955  0.445917  0.575175  0.799167  0.429433  0.253563   \n",
       "4  0.297194  0.773218  0.392743  0.575725  0.799167  0.447169  0.959633   \n",
       "\n",
       "       lith  goal  \n",
       "0        NK   0.0  \n",
       "1  ARGILLIT   0.0  \n",
       "2  ARGILLIT   0.0  \n",
       "3  ARGILLIT   0.0  \n",
       "4  ARGILLIT   0.0  "
      ]
     },
     "execution_count": 8,
     "metadata": {},
     "output_type": "execute_result"
    }
   ],
   "source": [
    "train[:5]"
   ]
  },
  {
   "cell_type": "code",
   "execution_count": null,
   "metadata": {},
   "outputs": [],
   "source": []
  },
  {
   "cell_type": "code",
   "execution_count": 10,
   "metadata": {},
   "outputs": [
    {
     "data": {
      "text/html": [
       "<div>\n",
       "<style scoped>\n",
       "    .dataframe tbody tr th:only-of-type {\n",
       "        vertical-align: middle;\n",
       "    }\n",
       "\n",
       "    .dataframe tbody tr th {\n",
       "        vertical-align: top;\n",
       "    }\n",
       "\n",
       "    .dataframe thead th {\n",
       "        text-align: right;\n",
       "    }\n",
       "</style>\n",
       "<table border=\"1\" class=\"dataframe\">\n",
       "  <thead>\n",
       "    <tr style=\"text-align: right;\">\n",
       "      <th></th>\n",
       "      <th>id</th>\n",
       "      <th>lith</th>\n",
       "      <th>goal</th>\n",
       "    </tr>\n",
       "  </thead>\n",
       "  <tbody>\n",
       "    <tr>\n",
       "      <th>count</th>\n",
       "      <td>37604.000000</td>\n",
       "      <td>0.0</td>\n",
       "      <td>0.0</td>\n",
       "    </tr>\n",
       "    <tr>\n",
       "      <th>mean</th>\n",
       "      <td>18802.500000</td>\n",
       "      <td>NaN</td>\n",
       "      <td>NaN</td>\n",
       "    </tr>\n",
       "    <tr>\n",
       "      <th>std</th>\n",
       "      <td>10855.484098</td>\n",
       "      <td>NaN</td>\n",
       "      <td>NaN</td>\n",
       "    </tr>\n",
       "    <tr>\n",
       "      <th>min</th>\n",
       "      <td>1.000000</td>\n",
       "      <td>NaN</td>\n",
       "      <td>NaN</td>\n",
       "    </tr>\n",
       "    <tr>\n",
       "      <th>25%</th>\n",
       "      <td>9401.750000</td>\n",
       "      <td>NaN</td>\n",
       "      <td>NaN</td>\n",
       "    </tr>\n",
       "    <tr>\n",
       "      <th>50%</th>\n",
       "      <td>18802.500000</td>\n",
       "      <td>NaN</td>\n",
       "      <td>NaN</td>\n",
       "    </tr>\n",
       "    <tr>\n",
       "      <th>75%</th>\n",
       "      <td>28203.250000</td>\n",
       "      <td>NaN</td>\n",
       "      <td>NaN</td>\n",
       "    </tr>\n",
       "    <tr>\n",
       "      <th>max</th>\n",
       "      <td>37604.000000</td>\n",
       "      <td>NaN</td>\n",
       "      <td>NaN</td>\n",
       "    </tr>\n",
       "  </tbody>\n",
       "</table>\n",
       "</div>"
      ],
      "text/plain": [
       "                 id  lith  goal\n",
       "count  37604.000000   0.0   0.0\n",
       "mean   18802.500000   NaN   NaN\n",
       "std    10855.484098   NaN   NaN\n",
       "min        1.000000   NaN   NaN\n",
       "25%     9401.750000   NaN   NaN\n",
       "50%    18802.500000   NaN   NaN\n",
       "75%    28203.250000   NaN   NaN\n",
       "max    37604.000000   NaN   NaN"
      ]
     },
     "execution_count": 10,
     "metadata": {},
     "output_type": "execute_result"
    }
   ],
   "source": [
    "label.describe()"
   ]
  },
  {
   "cell_type": "code",
   "execution_count": 11,
   "metadata": {},
   "outputs": [
    {
     "data": {
      "text/html": [
       "<div>\n",
       "<style scoped>\n",
       "    .dataframe tbody tr th:only-of-type {\n",
       "        vertical-align: middle;\n",
       "    }\n",
       "\n",
       "    .dataframe tbody tr th {\n",
       "        vertical-align: top;\n",
       "    }\n",
       "\n",
       "    .dataframe thead th {\n",
       "        text-align: right;\n",
       "    }\n",
       "</style>\n",
       "<table border=\"1\" class=\"dataframe\">\n",
       "  <thead>\n",
       "    <tr style=\"text-align: right;\">\n",
       "      <th></th>\n",
       "      <th>well id</th>\n",
       "      <th>depth, m</th>\n",
       "      <th>bk</th>\n",
       "      <th>GZ1</th>\n",
       "      <th>GZ2</th>\n",
       "      <th>GZ3</th>\n",
       "      <th>GZ4</th>\n",
       "      <th>GZ5</th>\n",
       "      <th>GZ7</th>\n",
       "      <th>DGK</th>\n",
       "      <th>NKTD</th>\n",
       "      <th>NKTM</th>\n",
       "      <th>NKTR</th>\n",
       "      <th>ALPS</th>\n",
       "      <th>goal</th>\n",
       "    </tr>\n",
       "  </thead>\n",
       "  <tbody>\n",
       "    <tr>\n",
       "      <th>count</th>\n",
       "      <td>463897.00000</td>\n",
       "      <td>463897.000000</td>\n",
       "      <td>396552.000000</td>\n",
       "      <td>404990.000000</td>\n",
       "      <td>405056.000000</td>\n",
       "      <td>406545.000000</td>\n",
       "      <td>154158.000000</td>\n",
       "      <td>149931.000000</td>\n",
       "      <td>151025.000000</td>\n",
       "      <td>157839.000000</td>\n",
       "      <td>311684.000000</td>\n",
       "      <td>226261.000000</td>\n",
       "      <td>133922.000000</td>\n",
       "      <td>441181.000000</td>\n",
       "      <td>463897.000000</td>\n",
       "    </tr>\n",
       "    <tr>\n",
       "      <th>mean</th>\n",
       "      <td>157.02981</td>\n",
       "      <td>2346.764379</td>\n",
       "      <td>0.354064</td>\n",
       "      <td>0.280254</td>\n",
       "      <td>0.388790</td>\n",
       "      <td>0.510815</td>\n",
       "      <td>0.487103</td>\n",
       "      <td>0.301386</td>\n",
       "      <td>0.554748</td>\n",
       "      <td>0.418060</td>\n",
       "      <td>0.385270</td>\n",
       "      <td>0.533739</td>\n",
       "      <td>0.447622</td>\n",
       "      <td>0.400610</td>\n",
       "      <td>0.150615</td>\n",
       "    </tr>\n",
       "    <tr>\n",
       "      <th>std</th>\n",
       "      <td>86.26215</td>\n",
       "      <td>385.069012</td>\n",
       "      <td>0.148669</td>\n",
       "      <td>0.157558</td>\n",
       "      <td>0.283688</td>\n",
       "      <td>0.230907</td>\n",
       "      <td>0.302675</td>\n",
       "      <td>0.152676</td>\n",
       "      <td>0.237662</td>\n",
       "      <td>0.123755</td>\n",
       "      <td>0.118957</td>\n",
       "      <td>0.082835</td>\n",
       "      <td>0.092444</td>\n",
       "      <td>0.243706</td>\n",
       "      <td>0.357674</td>\n",
       "    </tr>\n",
       "    <tr>\n",
       "      <th>min</th>\n",
       "      <td>1.00000</td>\n",
       "      <td>969.285000</td>\n",
       "      <td>0.111121</td>\n",
       "      <td>0.111175</td>\n",
       "      <td>0.111121</td>\n",
       "      <td>0.111125</td>\n",
       "      <td>0.111147</td>\n",
       "      <td>0.111164</td>\n",
       "      <td>0.111135</td>\n",
       "      <td>0.111285</td>\n",
       "      <td>0.119643</td>\n",
       "      <td>0.265249</td>\n",
       "      <td>0.111294</td>\n",
       "      <td>0.111111</td>\n",
       "      <td>0.000000</td>\n",
       "    </tr>\n",
       "    <tr>\n",
       "      <th>25%</th>\n",
       "      <td>80.00000</td>\n",
       "      <td>2175.387000</td>\n",
       "      <td>0.252554</td>\n",
       "      <td>0.183426</td>\n",
       "      <td>0.139547</td>\n",
       "      <td>0.323727</td>\n",
       "      <td>0.157994</td>\n",
       "      <td>0.189896</td>\n",
       "      <td>0.366555</td>\n",
       "      <td>0.352921</td>\n",
       "      <td>0.315576</td>\n",
       "      <td>0.473716</td>\n",
       "      <td>0.398218</td>\n",
       "      <td>0.182677</td>\n",
       "      <td>0.000000</td>\n",
       "    </tr>\n",
       "    <tr>\n",
       "      <th>50%</th>\n",
       "      <td>167.00000</td>\n",
       "      <td>2393.051000</td>\n",
       "      <td>0.338953</td>\n",
       "      <td>0.244243</td>\n",
       "      <td>0.245264</td>\n",
       "      <td>0.517278</td>\n",
       "      <td>0.495885</td>\n",
       "      <td>0.267452</td>\n",
       "      <td>0.591975</td>\n",
       "      <td>0.438447</td>\n",
       "      <td>0.364399</td>\n",
       "      <td>0.524870</td>\n",
       "      <td>0.451231</td>\n",
       "      <td>0.338253</td>\n",
       "      <td>0.000000</td>\n",
       "    </tr>\n",
       "    <tr>\n",
       "      <th>75%</th>\n",
       "      <td>233.00000</td>\n",
       "      <td>2581.806500</td>\n",
       "      <td>0.413153</td>\n",
       "      <td>0.298872</td>\n",
       "      <td>0.624742</td>\n",
       "      <td>0.691272</td>\n",
       "      <td>0.763175</td>\n",
       "      <td>0.358845</td>\n",
       "      <td>0.742175</td>\n",
       "      <td>0.497439</td>\n",
       "      <td>0.437514</td>\n",
       "      <td>0.572796</td>\n",
       "      <td>0.492776</td>\n",
       "      <td>0.574275</td>\n",
       "      <td>0.000000</td>\n",
       "    </tr>\n",
       "    <tr>\n",
       "      <th>max</th>\n",
       "      <td>287.00000</td>\n",
       "      <td>3155.591000</td>\n",
       "      <td>0.999848</td>\n",
       "      <td>0.999973</td>\n",
       "      <td>0.999756</td>\n",
       "      <td>0.999994</td>\n",
       "      <td>0.999960</td>\n",
       "      <td>0.998834</td>\n",
       "      <td>0.999648</td>\n",
       "      <td>0.999514</td>\n",
       "      <td>0.799599</td>\n",
       "      <td>0.799167</td>\n",
       "      <td>0.998569</td>\n",
       "      <td>0.999996</td>\n",
       "      <td>1.000000</td>\n",
       "    </tr>\n",
       "  </tbody>\n",
       "</table>\n",
       "</div>"
      ],
      "text/plain": [
       "            well id       depth, m             bk            GZ1  \\\n",
       "count  463897.00000  463897.000000  396552.000000  404990.000000   \n",
       "mean      157.02981    2346.764379       0.354064       0.280254   \n",
       "std        86.26215     385.069012       0.148669       0.157558   \n",
       "min         1.00000     969.285000       0.111121       0.111175   \n",
       "25%        80.00000    2175.387000       0.252554       0.183426   \n",
       "50%       167.00000    2393.051000       0.338953       0.244243   \n",
       "75%       233.00000    2581.806500       0.413153       0.298872   \n",
       "max       287.00000    3155.591000       0.999848       0.999973   \n",
       "\n",
       "                 GZ2            GZ3            GZ4            GZ5  \\\n",
       "count  405056.000000  406545.000000  154158.000000  149931.000000   \n",
       "mean        0.388790       0.510815       0.487103       0.301386   \n",
       "std         0.283688       0.230907       0.302675       0.152676   \n",
       "min         0.111121       0.111125       0.111147       0.111164   \n",
       "25%         0.139547       0.323727       0.157994       0.189896   \n",
       "50%         0.245264       0.517278       0.495885       0.267452   \n",
       "75%         0.624742       0.691272       0.763175       0.358845   \n",
       "max         0.999756       0.999994       0.999960       0.998834   \n",
       "\n",
       "                 GZ7            DGK           NKTD           NKTM  \\\n",
       "count  151025.000000  157839.000000  311684.000000  226261.000000   \n",
       "mean        0.554748       0.418060       0.385270       0.533739   \n",
       "std         0.237662       0.123755       0.118957       0.082835   \n",
       "min         0.111135       0.111285       0.119643       0.265249   \n",
       "25%         0.366555       0.352921       0.315576       0.473716   \n",
       "50%         0.591975       0.438447       0.364399       0.524870   \n",
       "75%         0.742175       0.497439       0.437514       0.572796   \n",
       "max         0.999648       0.999514       0.799599       0.799167   \n",
       "\n",
       "                NKTR           ALPS           goal  \n",
       "count  133922.000000  441181.000000  463897.000000  \n",
       "mean        0.447622       0.400610       0.150615  \n",
       "std         0.092444       0.243706       0.357674  \n",
       "min         0.111294       0.111111       0.000000  \n",
       "25%         0.398218       0.182677       0.000000  \n",
       "50%         0.451231       0.338253       0.000000  \n",
       "75%         0.492776       0.574275       0.000000  \n",
       "max         0.998569       0.999996       1.000000  "
      ]
     },
     "execution_count": 11,
     "metadata": {},
     "output_type": "execute_result"
    }
   ],
   "source": [
    "train.describe()"
   ]
  },
  {
   "cell_type": "code",
   "execution_count": 22,
   "metadata": {
    "scrolled": false
   },
   "outputs": [
    {
     "name": "stderr",
     "output_type": "stream",
     "text": [
      "/home/iv-provilkov/.local/lib/python3.5/site-packages/numpy/lib/histograms.py:824: RuntimeWarning: invalid value encountered in greater_equal\n",
      "  keep = (tmp_a >= first_edge)\n",
      "/home/iv-provilkov/.local/lib/python3.5/site-packages/numpy/lib/histograms.py:825: RuntimeWarning: invalid value encountered in less_equal\n",
      "  keep &= (tmp_a <= last_edge)\n"
     ]
    },
    {
     "data": {
      "image/png": "[encoded data removed]",
      "text/plain": [
       "<Figure size 720x720 with 1 Axes>"
      ]
     },
     "metadata": {
      "needs_background": "light"
     },
     "output_type": "display_data"
    }
   ],
   "source": [
    "plt.figure(figsize=(10,10))\n",
    "р = plt.hist(train['depth, m'].values, bins=300)"
   ]
  },
  {
   "cell_type": "code",
   "execution_count": 18,
   "metadata": {},
   "outputs": [
    {
     "data": {
      "text/html": [
       "<div>\n",
       "<style scoped>\n",
       "    .dataframe tbody tr th:only-of-type {\n",
       "        vertical-align: middle;\n",
       "    }\n",
       "\n",
       "    .dataframe tbody tr th {\n",
       "        vertical-align: top;\n",
       "    }\n",
       "\n",
       "    .dataframe thead th {\n",
       "        text-align: right;\n",
       "    }\n",
       "</style>\n",
       "<table border=\"1\" class=\"dataframe\">\n",
       "  <thead>\n",
       "    <tr style=\"text-align: right;\">\n",
       "      <th></th>\n",
       "      <th>id</th>\n",
       "      <th>well id</th>\n",
       "      <th>depth, m</th>\n",
       "      <th>bk</th>\n",
       "      <th>GZ1</th>\n",
       "      <th>GZ2</th>\n",
       "      <th>GZ3</th>\n",
       "      <th>GZ4</th>\n",
       "      <th>GZ5</th>\n",
       "      <th>GZ7</th>\n",
       "      <th>DGK</th>\n",
       "      <th>NKTD</th>\n",
       "      <th>NKTM</th>\n",
       "      <th>NKTR</th>\n",
       "      <th>ALPS</th>\n",
       "    </tr>\n",
       "  </thead>\n",
       "  <tbody>\n",
       "    <tr>\n",
       "      <th>0</th>\n",
       "      <td>1</td>\n",
       "      <td>47</td>\n",
       "      <td>2465.5460</td>\n",
       "      <td>0.665198</td>\n",
       "      <td>0.259688</td>\n",
       "      <td>0.865866</td>\n",
       "      <td>0.526683</td>\n",
       "      <td>0.116218</td>\n",
       "      <td>0.464870</td>\n",
       "      <td>0.124486</td>\n",
       "      <td>0.196296</td>\n",
       "      <td>0.483192</td>\n",
       "      <td>0.643774</td>\n",
       "      <td>0.376472</td>\n",
       "      <td>0.261831</td>\n",
       "    </tr>\n",
       "    <tr>\n",
       "      <th>1</th>\n",
       "      <td>2</td>\n",
       "      <td>47</td>\n",
       "      <td>2465.6355</td>\n",
       "      <td>0.115153</td>\n",
       "      <td>0.258287</td>\n",
       "      <td>0.161988</td>\n",
       "      <td>0.583114</td>\n",
       "      <td>0.122256</td>\n",
       "      <td>0.477795</td>\n",
       "      <td>0.118895</td>\n",
       "      <td>0.146578</td>\n",
       "      <td>0.491132</td>\n",
       "      <td>0.655735</td>\n",
       "      <td>0.359872</td>\n",
       "      <td>0.236470</td>\n",
       "    </tr>\n",
       "    <tr>\n",
       "      <th>2</th>\n",
       "      <td>3</td>\n",
       "      <td>47</td>\n",
       "      <td>2465.7250</td>\n",
       "      <td>0.155254</td>\n",
       "      <td>0.318849</td>\n",
       "      <td>0.125817</td>\n",
       "      <td>0.639544</td>\n",
       "      <td>0.128194</td>\n",
       "      <td>0.497212</td>\n",
       "      <td>0.111693</td>\n",
       "      <td>0.968615</td>\n",
       "      <td>0.499726</td>\n",
       "      <td>0.667695</td>\n",
       "      <td>0.343272</td>\n",
       "      <td>0.266756</td>\n",
       "    </tr>\n",
       "    <tr>\n",
       "      <th>3</th>\n",
       "      <td>4</td>\n",
       "      <td>47</td>\n",
       "      <td>2465.8145</td>\n",
       "      <td>0.125315</td>\n",
       "      <td>0.474215</td>\n",
       "      <td>0.149127</td>\n",
       "      <td>0.638636</td>\n",
       "      <td>0.128239</td>\n",
       "      <td>0.478265</td>\n",
       "      <td>0.987464</td>\n",
       "      <td>0.546126</td>\n",
       "      <td>0.492469</td>\n",
       "      <td>0.659642</td>\n",
       "      <td>0.341159</td>\n",
       "      <td>0.332568</td>\n",
       "    </tr>\n",
       "    <tr>\n",
       "      <th>4</th>\n",
       "      <td>5</td>\n",
       "      <td>47</td>\n",
       "      <td>2465.9040</td>\n",
       "      <td>0.953756</td>\n",
       "      <td>0.638341</td>\n",
       "      <td>0.172437</td>\n",
       "      <td>0.637663</td>\n",
       "      <td>0.113455</td>\n",
       "      <td>0.465892</td>\n",
       "      <td>0.858188</td>\n",
       "      <td>0.123651</td>\n",
       "      <td>0.485865</td>\n",
       "      <td>0.651513</td>\n",
       "      <td>0.339456</td>\n",
       "      <td>0.398383</td>\n",
       "    </tr>\n",
       "  </tbody>\n",
       "</table>\n",
       "</div>"
      ],
      "text/plain": [
       "   id  well id   depth, m        bk       GZ1       GZ2       GZ3       GZ4  \\\n",
       "0   1       47  2465.5460  0.665198  0.259688  0.865866  0.526683  0.116218   \n",
       "1   2       47  2465.6355  0.115153  0.258287  0.161988  0.583114  0.122256   \n",
       "2   3       47  2465.7250  0.155254  0.318849  0.125817  0.639544  0.128194   \n",
       "3   4       47  2465.8145  0.125315  0.474215  0.149127  0.638636  0.128239   \n",
       "4   5       47  2465.9040  0.953756  0.638341  0.172437  0.637663  0.113455   \n",
       "\n",
       "        GZ5       GZ7       DGK      NKTD      NKTM      NKTR      ALPS  \n",
       "0  0.464870  0.124486  0.196296  0.483192  0.643774  0.376472  0.261831  \n",
       "1  0.477795  0.118895  0.146578  0.491132  0.655735  0.359872  0.236470  \n",
       "2  0.497212  0.111693  0.968615  0.499726  0.667695  0.343272  0.266756  \n",
       "3  0.478265  0.987464  0.546126  0.492469  0.659642  0.341159  0.332568  \n",
       "4  0.465892  0.858188  0.123651  0.485865  0.651513  0.339456  0.398383  "
      ]
     },
     "execution_count": 18,
     "metadata": {},
     "output_type": "execute_result"
    }
   ],
   "source": [
    "test[:5]"
   ]
  },
  {
   "cell_type": "code",
   "execution_count": 23,
   "metadata": {
    "scrolled": false
   },
   "outputs": [
    {
     "data": {
      "image/png": "[encoded data removed]",
      "text/plain": [
       "<Figure size 720x720 with 1 Axes>"
      ]
     },
     "metadata": {
      "needs_background": "light"
     },
     "output_type": "display_data"
    }
   ],
   "source": [
    "plt.figure(figsize=(10,10))\n",
    "р = plt.hist(test['depth, m'].values, bins=300)"
   ]
  },
  {
   "cell_type": "code",
   "execution_count": 26,
   "metadata": {},
   "outputs": [
    {
     "data": {
      "text/plain": [
       "array([ 0.,  1., nan])"
      ]
     },
     "execution_count": 26,
     "metadata": {},
     "output_type": "execute_result"
    }
   ],
   "source": [
    "train['goal'].unique()"
   ]
  },
  {
   "cell_type": "code",
   "execution_count": 32,
   "metadata": {},
   "outputs": [
    {
     "data": {
      "text/plain": [
       "array(['NK', 'ARGILLIT', 'DENSE', 'ALEVROLIT', 'SAND', 'SAND_GL',\n",
       "       'NYA_KOLLEKTOR', 'SAND_UPLOT', 'COAL', 'SAND_ALEV', 'LIMESTONE',\n",
       "       'MERGEL', nan], dtype=object)"
      ]
     },
     "execution_count": 32,
     "metadata": {},
     "output_type": "execute_result"
    }
   ],
   "source": [
    "train['lith'].unique()"
   ]
  },
  {
   "cell_type": "code",
   "execution_count": 34,
   "metadata": {},
   "outputs": [],
   "source": [
    "corr = train.corr()"
   ]
  },
  {
   "cell_type": "code",
   "execution_count": 37,
   "metadata": {},
   "outputs": [
    {
     "data": {
      "image/png": "[encoded data removed]",
      "text/plain": [
       "<Figure size 936x936 with 2 Axes>"
      ]
     },
     "metadata": {
      "needs_background": "light"
     },
     "output_type": "display_data"
    }
   ],
   "source": [
    "fig = plt.figure(figsize=(13,13))\n",
    "ax = sns.heatmap(\n",
    "    corr, \n",
    "    vmin=-1, vmax=1, center=0,\n",
    "    cmap=sns.diverging_palette(20, 220, n=200),\n",
    "    square=True\n",
    ")\n",
    "ax.set_xticklabels(\n",
    "    ax.get_xticklabels(),\n",
    "    rotation=45,\n",
    "    horizontalalignment='right'\n",
    ");"
   ]
  },
  {
   "cell_type": "markdown",
   "metadata": {},
   "source": [
    "Боковой каротаж: Основная цель данного метода — определение истинного удельного сопротивления пласта и зоны проникновения в Омм (электрическое сопротивление)\n",
    "\n",
    "С помощью бокового каротажа можно определить: Детальное расчленение разреза, выделение пластов коллекторов. Истинные значения сопротивления пласта и зоны проникновения.\n",
    "\n",
    "Градиент БКЗ: то же что и предыдущее но на разных частотах/расстояниях\n",
    "\n",
    "Гамма каротаж Гамма-каротаж (ГК) (англ. Gamma Ray Log (GR)) показывает естественную радиоактивность (или гамма-активность) пород в скважине, образуемую за счёт радиоактивных изотопов глинистых минералов: полевого шпата, слюды, иллита и минералов группы фосфатов.\n",
    "\n",
    "Помимо глин, значительной радиоактивностью обладают полимиктовые песчаники, при незначительной глинистости за счёт калийсодержащих минералов: полевого, шпата, глауконита, микроклина. Для чего применяют гамма-каротаж? С помощью кривой ГК можно: Оценивать литологию. Выделять интервалы коллекторов. Оценивать глинистость (лучший метод для определения глиносодержания) Производить привязку глубины при проведении прострелочно-взрывных работ. Метод работает как в открытом стволе, так и в обсаженных колонной скважинах.\n",
    "\n",
    "\n",
    "Показания в глинах отклоняются вправо, в песчаниках и известняках – влево. Чем выше глиносодержание пород, тем более сильное отклонение вправо (исключение — полимиктовые песчаники даже при малой глинистости обладают значительной радиоактивностью и их показания ГК высокие). Крайнее правое положение кривой ГК – линия глин, крайнее левое отклонение кривой ГК – линия песков. Показания российского метода выражаются интенсивностью гамма-излучения в мкр/час (микрорентген/час) или имп/мин (импульсы/минута). В зарубежной практике показания метода выражаются в условных единицах американского нефтяного института (API).\n",
    "https://www.geolib.net/gis/gamma-karotazh.html\n",
    "\n",
    "\n",
    "нейтрон нейтронный\n",
    "\n",
    "HHK применяется при разведке и эксплуатации месторождений полезных ископаемых для количественного определения пористости и других коллекторских свойств горной породы, корреляции разрезов скважин; контроля продвижения пластовых вод, выявления интервалов обводнения пластов и положения водонефтяного контакта, определения поглощающих и неработающих пластов; контроля гидроразрыва, соляно-кислотных обработок пластов и испытаний скважин; контроля технического состояния скважин, количественного определения содержания химических элементов (редких, рассеянных и др.), изучения изменения водо-, нефте- и газонасыщенности (повторными наблюдениями), а также для контроля за сооружением и эксплуатацией подземных газохранилищ, интенсификации разработки месторождений, проведения мероприятий по охране недр и окружающей среды.\n",
    "\n",
    "http://www.mining-enc.ru/n/nejtron-nejtronnyj-karotazh/\n",
    "\n",
    "Метод электрического каротажа, основанный на изучении электрического поля, самопроизвольно возникающего в скважинах в результате электрохимической активности горных пород.\n",
    "\n",
    "Основной причиной возникновения эдс самопроизвольной поляризации (ПС) является наличие в скважине и около нее диффузионных, диффузионно-адсорбционных и фильтрационных потенциалов. Измерение потенциала ПС сводится к регистрации разности потенциалов между неподвижным электродом N, находящимся около устья скважины, и электродом М, перемещаемым по стволу скважины. Искажающая измерение электродная разность потенциалов компенсируется включенным в измерительную цепь компенсатором поляризации.\n",
    "\n",
    "Поскольку при регистрации невозможно учесть все сторонние разности потенциалов в цепи измерительных электродов, кривая ПС отображает лишь изменение потенциала ПС по скважине, а не его абсолютное значение. Поэтому на диаграммах ПС указывается только масштаб регистрации разности потенциалов (мВ/см) и не указывается линия отсчета. В качестве нулевой принимают «линию глин», которая проводится напротив мощных пластов глин. Отклонение кривой ПС от «линии глин» называют амплитудой потенциала ПС.\n",
    "\n",
    "Наибольшая амплитуда потенциала ПС наблюдается напротив чистых песчаных пластов-коллекторов. С увеличением их глинистости амплитуда ПС уменьшается. Таким образом, кривая ПС является надежным средством выделения в терригенном разрезе проницаемых песчаных пластов, в ряде случаев она позволяет оценить относительную глинистость пород.\n",
    "\n",
    "https://www.geolib.net/gis/ps-karotazh.html\n",
    "\n",
    "Что влияет на показания? На амплитуду кривой потенциала собственной поляризации оказываю влияние следующие факторы: Мощность пласта – чем меньше мощность пласта, тем ниже показания ПС. Соотношение между сопротивлениями пластовой воды и скважинной жидкости (бурового раствора) – чем выше разница в сопротивлении, тем больше амплитуда. \n",
    "Источник: https://www.geolib.net/gis/ps-karotazh.html"
   ]
  },
  {
   "cell_type": "code",
   "execution_count": 40,
   "metadata": {},
   "outputs": [
    {
     "data": {
      "text/html": [
       "<div>\n",
       "<style scoped>\n",
       "    .dataframe tbody tr th:only-of-type {\n",
       "        vertical-align: middle;\n",
       "    }\n",
       "\n",
       "    .dataframe tbody tr th {\n",
       "        vertical-align: top;\n",
       "    }\n",
       "\n",
       "    .dataframe thead th {\n",
       "        text-align: right;\n",
       "    }\n",
       "</style>\n",
       "<table border=\"1\" class=\"dataframe\">\n",
       "  <thead>\n",
       "    <tr style=\"text-align: right;\">\n",
       "      <th></th>\n",
       "      <th>well id</th>\n",
       "      <th>depth, m</th>\n",
       "      <th>bk</th>\n",
       "      <th>GZ1</th>\n",
       "      <th>GZ2</th>\n",
       "      <th>GZ3</th>\n",
       "      <th>GZ4</th>\n",
       "      <th>GZ5</th>\n",
       "      <th>GZ7</th>\n",
       "      <th>DGK</th>\n",
       "      <th>NKTD</th>\n",
       "      <th>NKTM</th>\n",
       "      <th>NKTR</th>\n",
       "      <th>ALPS</th>\n",
       "      <th>lith</th>\n",
       "      <th>goal</th>\n",
       "    </tr>\n",
       "  </thead>\n",
       "  <tbody>\n",
       "    <tr>\n",
       "      <th>0</th>\n",
       "      <td>12.0</td>\n",
       "      <td>3042.4630</td>\n",
       "      <td>0.455779</td>\n",
       "      <td>0.774000</td>\n",
       "      <td>0.774000</td>\n",
       "      <td>0.332846</td>\n",
       "      <td>0.476545</td>\n",
       "      <td>0.774000</td>\n",
       "      <td>0.244898</td>\n",
       "      <td>0.123651</td>\n",
       "      <td>0.774000</td>\n",
       "      <td>0.799167</td>\n",
       "      <td>0.174639</td>\n",
       "      <td>0.727789</td>\n",
       "      <td>NK</td>\n",
       "      <td>0.0</td>\n",
       "    </tr>\n",
       "    <tr>\n",
       "      <th>1</th>\n",
       "      <td>33.0</td>\n",
       "      <td>2412.8305</td>\n",
       "      <td>NaN</td>\n",
       "      <td>0.157153</td>\n",
       "      <td>0.755472</td>\n",
       "      <td>0.453216</td>\n",
       "      <td>0.715147</td>\n",
       "      <td>NaN</td>\n",
       "      <td>0.523432</td>\n",
       "      <td>0.388729</td>\n",
       "      <td>0.519233</td>\n",
       "      <td>0.799167</td>\n",
       "      <td>0.563573</td>\n",
       "      <td>0.111216</td>\n",
       "      <td>ARGILLIT</td>\n",
       "      <td>0.0</td>\n",
       "    </tr>\n",
       "    <tr>\n",
       "      <th>2</th>\n",
       "      <td>33.0</td>\n",
       "      <td>2522.5575</td>\n",
       "      <td>NaN</td>\n",
       "      <td>0.172235</td>\n",
       "      <td>0.941742</td>\n",
       "      <td>0.525711</td>\n",
       "      <td>0.668600</td>\n",
       "      <td>NaN</td>\n",
       "      <td>0.588924</td>\n",
       "      <td>0.515214</td>\n",
       "      <td>0.527139</td>\n",
       "      <td>0.799167</td>\n",
       "      <td>0.551152</td>\n",
       "      <td>0.172359</td>\n",
       "      <td>ARGILLIT</td>\n",
       "      <td>0.0</td>\n",
       "    </tr>\n",
       "    <tr>\n",
       "      <th>3</th>\n",
       "      <td>49.0</td>\n",
       "      <td>2396.3625</td>\n",
       "      <td>0.381248</td>\n",
       "      <td>0.246838</td>\n",
       "      <td>0.116913</td>\n",
       "      <td>0.732654</td>\n",
       "      <td>0.151299</td>\n",
       "      <td>0.165219</td>\n",
       "      <td>0.656955</td>\n",
       "      <td>0.445917</td>\n",
       "      <td>0.575175</td>\n",
       "      <td>0.799167</td>\n",
       "      <td>0.429433</td>\n",
       "      <td>0.253563</td>\n",
       "      <td>ARGILLIT</td>\n",
       "      <td>0.0</td>\n",
       "    </tr>\n",
       "    <tr>\n",
       "      <th>4</th>\n",
       "      <td>49.0</td>\n",
       "      <td>2399.0475</td>\n",
       "      <td>0.356867</td>\n",
       "      <td>0.226241</td>\n",
       "      <td>0.155473</td>\n",
       "      <td>0.613300</td>\n",
       "      <td>0.173949</td>\n",
       "      <td>0.297194</td>\n",
       "      <td>0.773218</td>\n",
       "      <td>0.392743</td>\n",
       "      <td>0.575725</td>\n",
       "      <td>0.799167</td>\n",
       "      <td>0.447169</td>\n",
       "      <td>0.959633</td>\n",
       "      <td>ARGILLIT</td>\n",
       "      <td>0.0</td>\n",
       "    </tr>\n",
       "  </tbody>\n",
       "</table>\n",
       "</div>"
      ],
      "text/plain": [
       "   well id   depth, m        bk       GZ1       GZ2       GZ3       GZ4  \\\n",
       "0     12.0  3042.4630  0.455779  0.774000  0.774000  0.332846  0.476545   \n",
       "1     33.0  2412.8305       NaN  0.157153  0.755472  0.453216  0.715147   \n",
       "2     33.0  2522.5575       NaN  0.172235  0.941742  0.525711  0.668600   \n",
       "3     49.0  2396.3625  0.381248  0.246838  0.116913  0.732654  0.151299   \n",
       "4     49.0  2399.0475  0.356867  0.226241  0.155473  0.613300  0.173949   \n",
       "\n",
       "        GZ5       GZ7       DGK      NKTD      NKTM      NKTR      ALPS  \\\n",
       "0  0.774000  0.244898  0.123651  0.774000  0.799167  0.174639  0.727789   \n",
       "1       NaN  0.523432  0.388729  0.519233  0.799167  0.563573  0.111216   \n",
       "2       NaN  0.588924  0.515214  0.527139  0.799167  0.551152  0.172359   \n",
       "3  0.165219  0.656955  0.445917  0.575175  0.799167  0.429433  0.253563   \n",
       "4  0.297194  0.773218  0.392743  0.575725  0.799167  0.447169  0.959633   \n",
       "\n",
       "       lith  goal  \n",
       "0        NK   0.0  \n",
       "1  ARGILLIT   0.0  \n",
       "2  ARGILLIT   0.0  \n",
       "3  ARGILLIT   0.0  \n",
       "4  ARGILLIT   0.0  "
      ]
     },
     "execution_count": 40,
     "metadata": {},
     "output_type": "execute_result"
    }
   ],
   "source": [
    "train[:5]"
   ]
  },
  {
   "cell_type": "code",
   "execution_count": 42,
   "metadata": {},
   "outputs": [
    {
     "data": {
      "text/plain": [
       "(1167, 16)"
      ]
     },
     "execution_count": 42,
     "metadata": {},
     "output_type": "execute_result"
    }
   ],
   "source": [
    "train[train['well id'] == 12.0].shape"
   ]
  },
  {
   "cell_type": "code",
   "execution_count": 48,
   "metadata": {},
   "outputs": [
    {
     "data": {
      "text/plain": [
       "(1320, 16)"
      ]
     },
     "execution_count": 48,
     "metadata": {},
     "output_type": "execute_result"
    }
   ],
   "source": [
    "train[train['well id'] == 78.0].shape"
   ]
  },
  {
   "cell_type": "code",
   "execution_count": 43,
   "metadata": {},
   "outputs": [
    {
     "data": {
      "text/plain": [
       "array([ 12.,  33.,  49.,  77.,  78.,  85., 140., 148., 207., 261., 263.,\n",
       "       270., 223., 274.,  16.,  79.,  83., 103., 122., 205., 225., 235.,\n",
       "       163., 187.,   5.,  63.,  82.,  84., 219., 239.,   6.,  75., 218.,\n",
       "       267., 146., 181., 208., 236., 252.,  96.,  94., 106., 258., 128.,\n",
       "       134., 216.,  74.,  80., 167., 178., 199., 238., 278.,  27., 201.,\n",
       "       257.,  23.,  70.,  73.,  93., 166., 279.,  90., 242., 275.,  28.,\n",
       "         9., 232.,   8., 169., 110., 162., 159., 206., 213.,   7.,  42.,\n",
       "       276.,  65., 112., 143., 203.,  17., 260.,  71.,  13.,  29.,  46.,\n",
       "        48.,  89.,  92., 130.,  15.,   3.,   4.,  34.,  55., 115., 200.,\n",
       "       277.,   2.,  30.,  68.,  98., 229.,  44., 271.,  38., 119.,  19.,\n",
       "        37.,  97., 127., 182., 204., 233., 272., 121., 151., 156.,  88.,\n",
       "       266., 170.,  22.,  54., 161., 191., 175., 157., 273., 221.,  24.,\n",
       "       149., 116.,  40.,  50.,  51., 265.,  53.,  57., 117., 222., 133.,\n",
       "       282.,  64.,  18.,  21., 180.,  26., 183., 241.,  56.,  72.,  43.,\n",
       "        35., 147., 234.,  52.,  14.,   1.,  10.,  11.,  20.,  25.,  31.,\n",
       "        32.,  36.,  39.,  41.,  45.,  58.,  59.,  60.,  61.,  62.,  66.,\n",
       "        67.,  69.,  76.,  81.,  86.,  87.,  91.,  nan,  99., 100., 101.,\n",
       "       102., 104., 105., 107., 108., 109., 111., 113., 114., 118., 120.,\n",
       "       123., 124., 125., 129., 131., 132., 135., 136., 137., 138., 139.,\n",
       "       141., 142., 144., 145., 150., 152., 153., 154., 155., 158., 160.,\n",
       "       165., 168., 171., 172., 173., 174., 177., 179., 184., 185., 186.,\n",
       "       188., 189., 190., 192., 193., 194., 195., 196., 197., 198., 202.,\n",
       "       209., 210., 211., 212., 214., 215., 217., 220., 224., 226., 227.,\n",
       "       228., 230., 231., 237., 240., 243., 244., 245., 246., 247., 248.,\n",
       "       249., 250., 251., 253., 254., 255., 256., 259., 262., 264., 268.,\n",
       "       269., 280., 281., 283., 284., 285., 286., 287.])"
      ]
     },
     "execution_count": 43,
     "metadata": {},
     "output_type": "execute_result"
    }
   ],
   "source": [
    "train['well id'].unique()"
   ]
  },
  {
   "cell_type": "code",
   "execution_count": 49,
   "metadata": {},
   "outputs": [
    {
     "data": {
      "text/plain": [
       "13000"
      ]
     },
     "execution_count": 49,
     "metadata": {},
     "output_type": "execute_result"
    }
   ],
   "source": [
    "1300*10"
   ]
  },
  {
   "cell_type": "code",
   "execution_count": 51,
   "metadata": {},
   "outputs": [
    {
     "data": {
      "text/plain": [
       "array(['NK', 'ARGILLIT', 'DENSE', 'ALEVROLIT', 'SAND', 'SAND_GL',\n",
       "       'NYA_KOLLEKTOR', 'SAND_UPLOT', 'COAL', 'SAND_ALEV', 'LIMESTONE',\n",
       "       'MERGEL', nan], dtype=object)"
      ]
     },
     "execution_count": 51,
     "metadata": {},
     "output_type": "execute_result"
    }
   ],
   "source": [
    "train['lith'].unique()"
   ]
  },
  {
   "cell_type": "code",
   "execution_count": null,
   "metadata": {},
   "outputs": [],
   "source": []
  }
 ],
 "metadata": {
  "kernelspec": {
   "display_name": "Python 3",
   "language": "python",
   "name": "python3"
  },
  "language_info": {
   "codemirror_mode": {
    "name": "ipython",
    "version": 3
   },
   "file_extension": ".py",
   "mimetype": "text/x-python",
   "name": "python",
   "nbconvert_exporter": "python",
   "pygments_lexer": "ipython3",
   "version": "3.5.6"
  }
 },
 "nbformat": 4,
 "nbformat_minor": 2
}
